{
 "cells": [
  {
   "cell_type": "markdown",
   "id": "5e7db8ef",
   "metadata": {},
   "source": [
    "# FAIR Risk Modelling"
   ]
  },
  {
   "cell_type": "markdown",
   "id": "3a0dcee2",
   "metadata": {},
   "source": [
    "This notebook attempts a simplistic implementation of the FAIR model. The Factor Analysis of Information Risk (FAIR) framework has an ontology as a key element. \n",
    "\n",
    "<img src=\"img/FAIR.png\"/>\n",
    "\n",
    "\n",
    "I use this model to build a simplistic model of risk. Since frequency and magnitude are not fixed, but instead are random variables, I use some probabilistic modeling to explore it."
   ]
  },
  {
   "cell_type": "code",
   "execution_count": 1,
   "id": "63b3d400",
   "metadata": {},
   "outputs": [],
   "source": [
    "import numpy as np\n",
    "import pandas as pd\n",
    "\n",
    "from scipy import stats\n",
    "from statistics import NormalDist\n",
    "\n",
    "from sklearn.preprocessing import scale\n",
    "import math\n",
    "import random\n",
    "\n",
    "import matplotlib.pyplot as plt\n",
    "import seaborn as sns"
   ]
  },
  {
   "cell_type": "code",
   "execution_count": 2,
   "id": "48315f32",
   "metadata": {},
   "outputs": [],
   "source": [
    "import pymc3 as pm\n",
    "import arviz as az"
   ]
  },
  {
   "cell_type": "code",
   "execution_count": 3,
   "id": "e18ada92",
   "metadata": {},
   "outputs": [],
   "source": [
    "import warnings\n",
    "warnings.simplefilter(action='ignore', category=FutureWarning)\n",
    "warnings.simplefilter(action='ignore')"
   ]
  },
  {
   "cell_type": "code",
   "execution_count": 4,
   "id": "b5bcdafc",
   "metadata": {},
   "outputs": [],
   "source": [
    "# Define the minimum and maximum values for probability of event\n",
    "MIN = .07\n",
    "MAX = .17\n",
    "# Define the log loss mean and standard deviation\n",
    "LOG_MEAN = 12.55\n",
    "LOG_STD = 3.06"
   ]
  },
  {
   "cell_type": "code",
   "execution_count": 5,
   "id": "6e44c4a9",
   "metadata": {},
   "outputs": [],
   "source": [
    "# Define the number of trials\n",
    "NUM_SAMPLES = 1000\n",
    "CONFIDENCE_INTERVAL = .9"
   ]
  },
  {
   "cell_type": "markdown",
   "id": "00293aac",
   "metadata": {},
   "source": [
    "***\n",
    "### Threat Event Frequency (TEF) Model\n",
    "***"
   ]
  },
  {
   "cell_type": "markdown",
   "id": "208662fd",
   "metadata": {},
   "source": [
    "In the FAIR model, the threat event frequency (TEF) is the probable frequency, within a given time-frame, that attacker will act in a manner that may result in loss. I'll use a Poisson process to model TEF , with mean 50 x more than our known/assumed loss event frequency (LEF). "
   ]
  },
  {
   "cell_type": "code",
   "execution_count": 6,
   "id": "6260a488",
   "metadata": {},
   "outputs": [],
   "source": [
    "# Threat Event Frequency (TEF) Model\n",
    "def tef_model():\n",
    "    with pm.Model() as model:\n",
    "        # Model threat events per year as a Poisson distribution\n",
    "        threat_events_per_year = pm.Poisson('threat_events_per_year', mu=50)\n",
    "\n",
    "        trace_tef = pm.sample(NUM_SAMPLES, tune=500)\n",
    "\n",
    "    # Plot the results\n",
    "    pm.plot_posterior(trace_tef, var_names=['threat_events_per_year'], hdi_prob=CONFIDENCE_INTERVAL)\n",
    "    plt.show()"
   ]
  },
  {
   "cell_type": "code",
   "execution_count": 7,
   "id": "efb1adae",
   "metadata": {},
   "outputs": [
    {
     "name": "stdout",
     "output_type": "stream",
     "text": [
      "TEF Model - Threat Event Frequency\n"
     ]
    },
    {
     "name": "stderr",
     "output_type": "stream",
     "text": [
      "Multiprocess sampling (4 chains in 4 jobs)\n",
      "Metropolis: [threat_events_per_year]\n"
     ]
    },
    {
     "data": {
      "text/html": [
       "\n",
       "<style>\n",
       "    /* Turns off some styling */\n",
       "    progress {\n",
       "        /* gets rid of default border in Firefox and Opera. */\n",
       "        border: none;\n",
       "        /* Needs to be in here for Safari polyfill so background images work as expected. */\n",
       "        background-size: auto;\n",
       "    }\n",
       "    progress:not([value]), progress:not([value])::-webkit-progress-bar {\n",
       "        background: repeating-linear-gradient(45deg, #7e7e7e, #7e7e7e 10px, #5c5c5c 10px, #5c5c5c 20px);\n",
       "    }\n",
       "    .progress-bar-interrupted, .progress-bar-interrupted::-webkit-progress-bar {\n",
       "        background: #F44336;\n",
       "    }\n",
       "</style>\n"
      ],
      "text/plain": [
       "<IPython.core.display.HTML object>"
      ]
     },
     "metadata": {},
     "output_type": "display_data"
    },
    {
     "data": {
      "text/html": [
       "\n",
       "    <div>\n",
       "      <progress value='6000' class='' max='6000' style='width:300px; height:20px; vertical-align: middle;'></progress>\n",
       "      100.00% [6000/6000 00:00&lt;00:00 Sampling 4 chains, 0 divergences]\n",
       "    </div>\n",
       "    "
      ],
      "text/plain": [
       "<IPython.core.display.HTML object>"
      ]
     },
     "metadata": {},
     "output_type": "display_data"
    },
    {
     "name": "stderr",
     "output_type": "stream",
     "text": [
      "Sampling 4 chains for 500 tune and 1_000 draw iterations (2_000 + 4_000 draws total) took 31 seconds.\n",
      "The number of effective samples is smaller than 25% for some parameters.\n",
      "Got error No model on context stack. trying to find log_likelihood in translation.\n"
     ]
    },
    {
     "data": {
      "image/png": "[encoded data removed]",
      "text/plain": [
       "<Figure size 460.8x345.6 with 1 Axes>"
      ]
     },
     "metadata": {
      "needs_background": "light"
     },
     "output_type": "display_data"
    }
   ],
   "source": [
    "# Run the TEF Model\n",
    "print(\"TEF Model - Threat Event Frequency\")\n",
    "tef_model()"
   ]
  },
  {
   "cell_type": "markdown",
   "id": "672f6ff5",
   "metadata": {},
   "source": [
    "***\n",
    "### Vulnerability Model\n",
    "***"
   ]
  },
  {
   "cell_type": "markdown",
   "id": "579d64bc",
   "metadata": {},
   "source": [
    "In the FAIR model, the threat event frequency (TEF) is the probable frequency, within a given time-frame, that attacker will act in a manner that may result in loss. Vulnerability, in this simplistic model, is the proportion of threat events (a.k.a. attacks) that succeed. For Vulnerability, which must be between 0 and 1, I'll use a Beta distribution, Beta(1.05,10), which gives a mean≈0.1 and standard deviation ≈0.09."
   ]
  },
  {
   "cell_type": "code",
   "execution_count": 8,
   "id": "f8340b78",
   "metadata": {},
   "outputs": [],
   "source": [
    "# Vulnerability Model\n",
    "def vulnerability_model():\n",
    "    with pm.Model() as model:\n",
    "        # Model vulnerability as a beta distribution\n",
    "        vulnerability = pm.Beta('vulnerability', alpha=1.05, beta=10)\n",
    "\n",
    "    with model:\n",
    "        trace_vulnerability = pm.sample(NUM_SAMPLES, tune=1000)\n",
    "\n",
    "    # Plot the results\n",
    "    pm.plot_posterior(trace_vulnerability, var_names=['vulnerability'], hdi_prob=CONFIDENCE_INTERVAL)\n",
    "    plt.show()\n",
    "\n",
    "    # Calculate mean and standard deviation\n",
    "    samps = trace_vulnerability['vulnerability']\n",
    "    mean = np.mean(samps)\n",
    "    sd = np.std(samps)\n",
    "\n",
    "    print(\"Mean = {:.4f}; SD = {:.4f}\".format(mean, sd))"
   ]
  },
  {
   "cell_type": "code",
   "execution_count": 9,
   "id": "72ead133",
   "metadata": {},
   "outputs": [
    {
     "name": "stdout",
     "output_type": "stream",
     "text": [
      "\n",
      "Vulnerability Model\n"
     ]
    },
    {
     "name": "stderr",
     "output_type": "stream",
     "text": [
      "Auto-assigning NUTS sampler...\n",
      "Initializing NUTS using jitter+adapt_diag...\n",
      "Multiprocess sampling (4 chains in 4 jobs)\n",
      "NUTS: [vulnerability]\n"
     ]
    },
    {
     "data": {
      "text/html": [
       "\n",
       "<style>\n",
       "    /* Turns off some styling */\n",
       "    progress {\n",
       "        /* gets rid of default border in Firefox and Opera. */\n",
       "        border: none;\n",
       "        /* Needs to be in here for Safari polyfill so background images work as expected. */\n",
       "        background-size: auto;\n",
       "    }\n",
       "    progress:not([value]), progress:not([value])::-webkit-progress-bar {\n",
       "        background: repeating-linear-gradient(45deg, #7e7e7e, #7e7e7e 10px, #5c5c5c 10px, #5c5c5c 20px);\n",
       "    }\n",
       "    .progress-bar-interrupted, .progress-bar-interrupted::-webkit-progress-bar {\n",
       "        background: #F44336;\n",
       "    }\n",
       "</style>\n"
      ],
      "text/plain": [
       "<IPython.core.display.HTML object>"
      ]
     },
     "metadata": {},
     "output_type": "display_data"
    },
    {
     "data": {
      "text/html": [
       "\n",
       "    <div>\n",
       "      <progress value='8000' class='' max='8000' style='width:300px; height:20px; vertical-align: middle;'></progress>\n",
       "      100.00% [8000/8000 00:02&lt;00:00 Sampling 4 chains, 0 divergences]\n",
       "    </div>\n",
       "    "
      ],
      "text/plain": [
       "<IPython.core.display.HTML object>"
      ]
     },
     "metadata": {},
     "output_type": "display_data"
    },
    {
     "name": "stderr",
     "output_type": "stream",
     "text": [
      "Sampling 4 chains for 1_000 tune and 1_000 draw iterations (4_000 + 4_000 draws total) took 31 seconds.\n",
      "Got error No model on context stack. trying to find log_likelihood in translation.\n"
     ]
    },
    {
     "data": {
      "image/png": "[encoded data removed]",
      "text/plain": [
       "<Figure size 432x288 with 1 Axes>"
      ]
     },
     "metadata": {
      "needs_background": "light"
     },
     "output_type": "display_data"
    },
    {
     "name": "stdout",
     "output_type": "stream",
     "text": [
      "Mean = 0.0913; SD = 0.0842\n"
     ]
    }
   ],
   "source": [
    "# Run the Vulnerability Model\n",
    "print(\"\\nVulnerability Model\")\n",
    "vulnerability_model()"
   ]
  },
  {
   "cell_type": "markdown",
   "id": "66a5909a",
   "metadata": {},
   "source": [
    "***\n",
    "### Loss Event Frequency (LEF) Model\n",
    "***"
   ]
  },
  {
   "cell_type": "markdown",
   "id": "a614d5b5",
   "metadata": {},
   "source": [
    "Next let's combine these to create a model for the loss even frequency. Assuming for each threat event (a.k.a. attack) that it will either succeed or fail, but without a fractional success in this simplified model. To implement this, we initially draw a value for the number of threat events in a simulated year from a distribution. Subsequently, we perform biased coin flips (Bernoulli trials) that many times, where the probability of \"heads\" (success) is drawn from the vulnerability distribution.\n",
    "\n",
    "It seems that the Bernoulli distribution in PyMC3 doesn't play well with certain NumPy or Theano configurations. \n",
    "To work around this, I used the `pm.Binomial` directly used to model the number of successes in `threat_events` trials, which essentially represents a Bernoulli distribution.        \n"
   ]
  },
  {
   "cell_type": "code",
   "execution_count": 10,
   "id": "785c08a6",
   "metadata": {},
   "outputs": [],
   "source": [
    "# Loss Event Frequency Model\n",
    "def loss_event_frequency_model():\n",
    "\n",
    "    with pm.Model() as model:\n",
    "        # Model threat events per year as a Poisson distribution\n",
    "        threat_events = pm.Poisson('threat_events', mu=1)\n",
    "\n",
    "        # Model vulnerability as a beta distribution\n",
    "        vulnerability = pm.Beta('vulnerability', alpha=1.05, beta=10)\n",
    "        \n",
    "        # Failing to model trials as Bernoulli trials based on threat events and vulnerability\n",
    "#         trials = pm.Bernoulli('trials', p=vulnerability, shape=threat_events).astype(int)\n",
    "\n",
    "        # Model trials as Binomial trials based on threat events and vulnerability, as a simplified version of the above\n",
    "        trials = pm.Binomial('trials', n=threat_events, p=vulnerability)\n",
    "\n",
    "\n",
    "        # Count the number of successes in the trials\n",
    "        successes = pm.math.sum(trials)\n",
    "\n",
    "        # Observed variable for the loss event frequency\n",
    "        loss_event_frequency = pm.Deterministic('loss_event_frequency', pm.math.sum(successes))\n",
    "\n",
    "    with model:\n",
    "        trace = pm.sample(NUM_SAMPLES)\n",
    "    # Plot the results\n",
    "    pm.plot_posterior(trace, var_names=['loss_event_frequency'], hdi_prob=CONFIDENCE_INTERVAL)\n",
    "    plt.show()\n",
    "    return trace"
   ]
  },
  {
   "cell_type": "code",
   "execution_count": 11,
   "id": "1ec580ce",
   "metadata": {
    "scrolled": false
   },
   "outputs": [
    {
     "name": "stdout",
     "output_type": "stream",
     "text": [
      "Loss Event Frequency Model\n"
     ]
    },
    {
     "name": "stderr",
     "output_type": "stream",
     "text": [
      "Multiprocess sampling (4 chains in 4 jobs)\n",
      "CompoundStep\n",
      ">CompoundStep\n",
      ">>Metropolis: [trials]\n",
      ">>Metropolis: [threat_events]\n",
      ">NUTS: [vulnerability]\n"
     ]
    },
    {
     "data": {
      "text/html": [
       "\n",
       "<style>\n",
       "    /* Turns off some styling */\n",
       "    progress {\n",
       "        /* gets rid of default border in Firefox and Opera. */\n",
       "        border: none;\n",
       "        /* Needs to be in here for Safari polyfill so background images work as expected. */\n",
       "        background-size: auto;\n",
       "    }\n",
       "    progress:not([value]), progress:not([value])::-webkit-progress-bar {\n",
       "        background: repeating-linear-gradient(45deg, #7e7e7e, #7e7e7e 10px, #5c5c5c 10px, #5c5c5c 20px);\n",
       "    }\n",
       "    .progress-bar-interrupted, .progress-bar-interrupted::-webkit-progress-bar {\n",
       "        background: #F44336;\n",
       "    }\n",
       "</style>\n"
      ],
      "text/plain": [
       "<IPython.core.display.HTML object>"
      ]
     },
     "metadata": {},
     "output_type": "display_data"
    },
    {
     "data": {
      "text/html": [
       "\n",
       "    <div>\n",
       "      <progress value='8000' class='' max='8000' style='width:300px; height:20px; vertical-align: middle;'></progress>\n",
       "      100.00% [8000/8000 00:03&lt;00:00 Sampling 4 chains, 0 divergences]\n",
       "    </div>\n",
       "    "
      ],
      "text/plain": [
       "<IPython.core.display.HTML object>"
      ]
     },
     "metadata": {},
     "output_type": "display_data"
    },
    {
     "name": "stderr",
     "output_type": "stream",
     "text": [
      "Sampling 4 chains for 1_000 tune and 1_000 draw iterations (4_000 + 4_000 draws total) took 32 seconds.\n",
      "The acceptance probability does not match the target. It is 0.6588569762056565, but should be close to 0.8. Try to increase the number of tuning steps.\n",
      "The number of effective samples is smaller than 25% for some parameters.\n",
      "Got error No model on context stack. trying to find log_likelihood in translation.\n"
     ]
    },
    {
     "data": {
      "image/png": "[encoded data removed]",
      "text/plain": [
       "<Figure size 432x288 with 1 Axes>"
      ]
     },
     "metadata": {
      "needs_background": "light"
     },
     "output_type": "display_data"
    }
   ],
   "source": [
    "# Run the Loss Event Frequency Model\n",
    "print(\"Loss Event Frequency Model\")\n",
    "lef_trace = loss_event_frequency_model()"
   ]
  },
  {
   "cell_type": "markdown",
   "id": "31880fee",
   "metadata": {},
   "source": [
    "***\n",
    "### Loss Magnitude (LM) Model\n",
    "***"
   ]
  },
  {
   "cell_type": "markdown",
   "id": "866e9b3a",
   "metadata": {},
   "source": [
    "Switching to Loss Magnitude, I'll attempt to model primary and secondary losses separately. I think the ideas are right, but this is not the best way to combine them. We know that losses are lognormal distributed, and we know the log loss mean per industry and organization revenur and size, so the primary losses are at half (an assumption to be discussed in a real world scenario)."
   ]
  },
  {
   "cell_type": "markdown",
   "id": "9eb7da71",
   "metadata": {},
   "source": [
    "In this code:\n",
    "\n",
    "- `pm.Lognormal` is used to model the magnitude as a log-normal distribution.\n",
    "- The mu parameter is set to half and the sigma parameter is set to half.\n",
    "- The shape parameter is used to specify the number of samples.\n"
   ]
  },
  {
   "cell_type": "code",
   "execution_count": 13,
   "id": "2bad60d9",
   "metadata": {},
   "outputs": [],
   "source": [
    "# Primary Loss Model\n",
    "def primary_loss_model():\n",
    "\n",
    "    with pm.Model() as model:\n",
    "        # Model magnitude as a log-normal distribution\n",
    "        magnitude = pm.Lognormal('magnitude', mu=np.log(LOG_MEAN/2), sigma=np.log(LOG_STD), shape=NUM_SAMPLES)\n",
    "\n",
    "    with model:\n",
    "        trace = pm.sample(NUM_SAMPLES, tune=1000)\n",
    "    return trace"
   ]
  },
  {
   "cell_type": "code",
   "execution_count": 14,
   "id": "2bd279d1",
   "metadata": {},
   "outputs": [
    {
     "name": "stderr",
     "output_type": "stream",
     "text": [
      "Auto-assigning NUTS sampler...\n",
      "Initializing NUTS using jitter+adapt_diag...\n"
     ]
    },
    {
     "name": "stdout",
     "output_type": "stream",
     "text": [
      "Primary Loss Probability Density Function\n"
     ]
    },
    {
     "name": "stderr",
     "output_type": "stream",
     "text": [
      "Multiprocess sampling (4 chains in 4 jobs)\n",
      "NUTS: [magnitude]\n"
     ]
    },
    {
     "data": {
      "text/html": [
       "\n",
       "<style>\n",
       "    /* Turns off some styling */\n",
       "    progress {\n",
       "        /* gets rid of default border in Firefox and Opera. */\n",
       "        border: none;\n",
       "        /* Needs to be in here for Safari polyfill so background images work as expected. */\n",
       "        background-size: auto;\n",
       "    }\n",
       "    progress:not([value]), progress:not([value])::-webkit-progress-bar {\n",
       "        background: repeating-linear-gradient(45deg, #7e7e7e, #7e7e7e 10px, #5c5c5c 10px, #5c5c5c 20px);\n",
       "    }\n",
       "    .progress-bar-interrupted, .progress-bar-interrupted::-webkit-progress-bar {\n",
       "        background: #F44336;\n",
       "    }\n",
       "</style>\n"
      ],
      "text/plain": [
       "<IPython.core.display.HTML object>"
      ]
     },
     "metadata": {},
     "output_type": "display_data"
    },
    {
     "data": {
      "text/html": [
       "\n",
       "    <div>\n",
       "      <progress value='8000' class='' max='8000' style='width:300px; height:20px; vertical-align: middle;'></progress>\n",
       "      100.00% [8000/8000 00:04&lt;00:00 Sampling 4 chains, 0 divergences]\n",
       "    </div>\n",
       "    "
      ],
      "text/plain": [
       "<IPython.core.display.HTML object>"
      ]
     },
     "metadata": {},
     "output_type": "display_data"
    },
    {
     "name": "stderr",
     "output_type": "stream",
     "text": [
      "Sampling 4 chains for 1_000 tune and 1_000 draw iterations (4_000 + 4_000 draws total) took 33 seconds.\n"
     ]
    }
   ],
   "source": [
    "# Run the Primary Loss Model\n",
    "print(\"Primary Loss Probability Density Function\")\n",
    "plm_trace = primary_loss_model()"
   ]
  },
  {
   "cell_type": "code",
   "execution_count": 27,
   "id": "c64e03b6",
   "metadata": {},
   "outputs": [
    {
     "name": "stdout",
     "output_type": "stream",
     "text": [
      "<MultiTrace: 4 chains, 1000 iterations, 2 variables>\n"
     ]
    }
   ],
   "source": [
    "print(plm_trace)"
   ]
  },
  {
   "cell_type": "code",
   "execution_count": 33,
   "id": "bcc28f9e",
   "metadata": {},
   "outputs": [
    {
     "data": {
      "image/png": "[encoded data removed]",
      "text/plain": [
       "<Figure size 432x288 with 1 Axes>"
      ]
     },
     "metadata": {
      "needs_background": "light"
     },
     "output_type": "display_data"
    }
   ],
   "source": [
    "# single_chain = plm_trace.get_values('magnitude', chains=0)\n",
    "# az.plot_posterior(single_chain, hdi_prob=CONFIDENCE_INTERVAL)\n",
    "# plt.show()"
   ]
  },
  {
   "cell_type": "code",
   "execution_count": 34,
   "id": "9f901f78",
   "metadata": {},
   "outputs": [
    {
     "data": {
      "image/png": "[encoded data removed]",
      "text/plain": [
       "<Figure size 432x288 with 1 Axes>"
      ]
     },
     "metadata": {
      "needs_background": "light"
     },
     "output_type": "display_data"
    }
   ],
   "source": [
    "flattened_trace = plm_trace.get_values('magnitude', combine=True)\n",
    "az.plot_posterior(flattened_trace, hdi_prob=CONFIDENCE_INTERVAL)\n",
    "plt.show()"
   ]
  },
  {
   "cell_type": "markdown",
   "id": "240b0e4c",
   "metadata": {},
   "source": [
    "The secondary loss is a conditional probabilistic loss. For some events there is no secondary loss, but there is a certain probability that there will be a secondary loss, which is drawn from a distribution – we’ll assume it is lognormal again, same as the primary losses. "
   ]
  },
  {
   "cell_type": "code",
   "execution_count": 35,
   "id": "c4e2d4b1",
   "metadata": {},
   "outputs": [],
   "source": [
    "# Secondary Risk Model\n",
    "def secondary_loss_model():\n",
    "\n",
    "    with pm.Model() as model:\n",
    "        # Model trigger as a Bernoulli distribution\n",
    "        trigger = pm.Bernoulli('trigger', p=.01, shape=NUM_SAMPLES)\n",
    "\n",
    "        # Model loss as a mixture of log-normal and point mass at 0\n",
    "        magnitude = pm.math.switch(trigger, pm.Lognormal('magnitude', mu=np.log(LOG_MEAN), sigma=np.log(2*LOG_STD), shape=NUM_SAMPLES), 0)\n",
    "\n",
    "    with model:\n",
    "        trace = pm.sample(NUM_SAMPLES, tune=1000)\n",
    " \n",
    "    return trace"
   ]
  },
  {
   "cell_type": "code",
   "execution_count": 36,
   "id": "0b450da1",
   "metadata": {
    "scrolled": true
   },
   "outputs": [
    {
     "name": "stdout",
     "output_type": "stream",
     "text": [
      "Secondary Risk Probability Density Function\n"
     ]
    },
    {
     "name": "stderr",
     "output_type": "stream",
     "text": [
      "Multiprocess sampling (4 chains in 4 jobs)\n",
      "CompoundStep\n",
      ">BinaryGibbsMetropolis: [trigger]\n",
      ">NUTS: [magnitude]\n"
     ]
    },
    {
     "data": {
      "text/html": [
       "\n",
       "<style>\n",
       "    /* Turns off some styling */\n",
       "    progress {\n",
       "        /* gets rid of default border in Firefox and Opera. */\n",
       "        border: none;\n",
       "        /* Needs to be in here for Safari polyfill so background images work as expected. */\n",
       "        background-size: auto;\n",
       "    }\n",
       "    progress:not([value]), progress:not([value])::-webkit-progress-bar {\n",
       "        background: repeating-linear-gradient(45deg, #7e7e7e, #7e7e7e 10px, #5c5c5c 10px, #5c5c5c 20px);\n",
       "    }\n",
       "    .progress-bar-interrupted, .progress-bar-interrupted::-webkit-progress-bar {\n",
       "        background: #F44336;\n",
       "    }\n",
       "</style>\n"
      ],
      "text/plain": [
       "<IPython.core.display.HTML object>"
      ]
     },
     "metadata": {},
     "output_type": "display_data"
    },
    {
     "data": {
      "text/html": [
       "\n",
       "    <div>\n",
       "      <progress value='8000' class='' max='8000' style='width:300px; height:20px; vertical-align: middle;'></progress>\n",
       "      100.00% [8000/8000 01:16&lt;00:00 Sampling 4 chains, 0 divergences]\n",
       "    </div>\n",
       "    "
      ],
      "text/plain": [
       "<IPython.core.display.HTML object>"
      ]
     },
     "metadata": {},
     "output_type": "display_data"
    },
    {
     "name": "stderr",
     "output_type": "stream",
     "text": [
      "Sampling 4 chains for 1_000 tune and 1_000 draw iterations (4_000 + 4_000 draws total) took 105 seconds.\n"
     ]
    }
   ],
   "source": [
    "# Run the Secondary Risk Model\n",
    "print(\"Secondary Risk Probability Density Function\")\n",
    "slm_trace = secondary_loss_model()"
   ]
  },
  {
   "cell_type": "code",
   "execution_count": 37,
   "id": "8a4854ef",
   "metadata": {},
   "outputs": [
    {
     "data": {
      "image/png": "[encoded data removed]",
      "text/plain": [
       "<Figure size 432x288 with 1 Axes>"
      ]
     },
     "metadata": {
      "needs_background": "light"
     },
     "output_type": "display_data"
    }
   ],
   "source": [
    "flattened_trace = slm_trace.get_values('magnitude', combine=True)\n",
    "az.plot_posterior(flattened_trace, hdi_prob=CONFIDENCE_INTERVAL)\n",
    "plt.show()"
   ]
  },
  {
   "cell_type": "markdown",
   "id": "a9b9bc58",
   "metadata": {},
   "source": [
    "This code models the loss magnitude as the sum of primary and secondary losses, where each loss is sampled from a log-normal distribution or set to 0 based on the trigger. "
   ]
  },
  {
   "cell_type": "code",
   "execution_count": 39,
   "id": "f7f5f7ca",
   "metadata": {},
   "outputs": [],
   "source": [
    "# Loss Magnitude Model\n",
    "def loss_magnitude_model():\n",
    "\n",
    "    with pm.Model() as model:\n",
    "        # Model primarily loss as a log-normal distribution\n",
    "        primary_loss = pm.Lognormal('primary_loss', mu=np.log(LOG_MEAN/2), sigma=np.log(LOG_STD), shape=NUM_SAMPLES)\n",
    "\n",
    "        # Model trigger for secondary risk as a Bernoulli distribution\n",
    "        trigger = pm.Bernoulli('trigger', p=0.4, shape=NUM_SAMPLES)\n",
    "\n",
    "        # Model secondary risk loss as a mixture of log-normal and point mass at 0\n",
    "        secondary_loss = pm.math.switch(trigger, pm.Lognormal('secondary_loss', mu=np.log(LOG_MEAN), sigma=np.log(2*LOG_STD), shape=NUM_SAMPLES), 0)\n",
    "\n",
    "        # Total loss magnitude as the sum of primarily and secondary losses\n",
    "        loss_magnitude = pm.Deterministic('loss_magnitude', primary_loss + secondary_loss)\n",
    "\n",
    "    with model:\n",
    "        trace = pm.sample(NUM_SAMPLES, tune=1000)\n",
    "    return trace"
   ]
  },
  {
   "cell_type": "code",
   "execution_count": 40,
   "id": "5851c000",
   "metadata": {},
   "outputs": [
    {
     "name": "stdout",
     "output_type": "stream",
     "text": [
      "Loss Magnitude Probability Density\n"
     ]
    },
    {
     "name": "stderr",
     "output_type": "stream",
     "text": [
      "Multiprocess sampling (4 chains in 4 jobs)\n",
      "CompoundStep\n",
      ">NUTS: [secondary_loss, primary_loss]\n",
      ">BinaryGibbsMetropolis: [trigger]\n"
     ]
    },
    {
     "data": {
      "text/html": [
       "\n",
       "<style>\n",
       "    /* Turns off some styling */\n",
       "    progress {\n",
       "        /* gets rid of default border in Firefox and Opera. */\n",
       "        border: none;\n",
       "        /* Needs to be in here for Safari polyfill so background images work as expected. */\n",
       "        background-size: auto;\n",
       "    }\n",
       "    progress:not([value]), progress:not([value])::-webkit-progress-bar {\n",
       "        background: repeating-linear-gradient(45deg, #7e7e7e, #7e7e7e 10px, #5c5c5c 10px, #5c5c5c 20px);\n",
       "    }\n",
       "    .progress-bar-interrupted, .progress-bar-interrupted::-webkit-progress-bar {\n",
       "        background: #F44336;\n",
       "    }\n",
       "</style>\n"
      ],
      "text/plain": [
       "<IPython.core.display.HTML object>"
      ]
     },
     "metadata": {},
     "output_type": "display_data"
    },
    {
     "data": {
      "text/html": [
       "\n",
       "    <div>\n",
       "      <progress value='8000' class='' max='8000' style='width:300px; height:20px; vertical-align: middle;'></progress>\n",
       "      100.00% [8000/8000 01:49&lt;00:00 Sampling 4 chains, 0 divergences]\n",
       "    </div>\n",
       "    "
      ],
      "text/plain": [
       "<IPython.core.display.HTML object>"
      ]
     },
     "metadata": {},
     "output_type": "display_data"
    },
    {
     "name": "stderr",
     "output_type": "stream",
     "text": [
      "Sampling 4 chains for 1_000 tune and 1_000 draw iterations (4_000 + 4_000 draws total) took 139 seconds.\n"
     ]
    }
   ],
   "source": [
    "# Run the Loss Magnitude Model\n",
    "print(\"Loss Magnitude Probability Density\")\n",
    "lm_trace = loss_magnitude_model()"
   ]
  },
  {
   "cell_type": "code",
   "execution_count": 42,
   "id": "5b7073eb",
   "metadata": {},
   "outputs": [
    {
     "data": {
      "image/png": "[encoded data removed]",
      "text/plain": [
       "<Figure size 432x288 with 1 Axes>"
      ]
     },
     "metadata": {
      "needs_background": "light"
     },
     "output_type": "display_data"
    }
   ],
   "source": [
    "flattened_trace = lm_trace.get_values('loss_magnitude', combine=True)\n",
    "az.plot_posterior(flattened_trace, hdi_prob=CONFIDENCE_INTERVAL)\n",
    "plt.show()"
   ]
  },
  {
   "cell_type": "code",
   "execution_count": 43,
   "id": "c1363c3a",
   "metadata": {},
   "outputs": [
    {
     "data": {
      "image/png": "[encoded data removed]",
      "text/plain": [
       "<Figure size 432x288 with 1 Axes>"
      ]
     },
     "metadata": {
      "needs_background": "light"
     },
     "output_type": "display_data"
    },
    {
     "data": {
      "image/png": "[encoded data removed]",
      "text/plain": [
       "<Figure size 432x288 with 1 Axes>"
      ]
     },
     "metadata": {
      "needs_background": "light"
     },
     "output_type": "display_data"
    }
   ],
   "source": [
    "# Plot density with reference values for 'magnitude' using flattened_trace\n",
    "# First plot with reference value at 100\n",
    "az.plot_posterior(flattened_trace, hdi_prob=CONFIDENCE_INTERVAL, \n",
    "                  ref_val=100, color='darkred', kind='kde')\n",
    "\n",
    "# Second plot with reference value at 5000\n",
    "az.plot_posterior(flattened_trace, hdi_prob=CONFIDENCE_INTERVAL, \n",
    "                  ref_val=5000, color='orange', kind='kde')\n",
    "\n",
    "# Display the plots\n",
    "plt.show()"
   ]
  },
  {
   "cell_type": "markdown",
   "id": "00f17a81",
   "metadata": {},
   "source": [
    "***\n",
    "### Risk Model\n",
    "***"
   ]
  },
  {
   "cell_type": "code",
   "execution_count": 44,
   "id": "74eaafff",
   "metadata": {},
   "outputs": [],
   "source": [
    "def risk_model(loss_magnitude_trace, loss_freq_trace):\n",
    "    # Add a stochastic variable\n",
    "    theta = pm.Normal('theta', mu=0, sigma=.1)\n",
    "\n",
    "    # Extract values from the traces\n",
    "    loss_event_frequency_values = loss_freq_trace['loss_event_frequency']\n",
    "    loss_magnitude_values = loss_magnitude_trace['loss_magnitude']\n",
    "\n",
    "    # Calculate risk as the dot product of frequency and loss\n",
    "    risk = pm.Deterministic('risk', pm.math.dot(loss_event_frequency_values, loss_magnitude_values) + theta)\n",
    "\n",
    "    return risk"
   ]
  },
  {
   "cell_type": "code",
   "execution_count": 45,
   "id": "b4cb9d97",
   "metadata": {},
   "outputs": [
    {
     "name": "stderr",
     "output_type": "stream",
     "text": [
      "Auto-assigning NUTS sampler...\n",
      "Initializing NUTS using jitter+adapt_diag...\n",
      "Sequential sampling (1 chains in 1 job)\n",
      "NUTS: [theta]\n"
     ]
    },
    {
     "data": {
      "text/html": [
       "\n",
       "<style>\n",
       "    /* Turns off some styling */\n",
       "    progress {\n",
       "        /* gets rid of default border in Firefox and Opera. */\n",
       "        border: none;\n",
       "        /* Needs to be in here for Safari polyfill so background images work as expected. */\n",
       "        background-size: auto;\n",
       "    }\n",
       "    progress:not([value]), progress:not([value])::-webkit-progress-bar {\n",
       "        background: repeating-linear-gradient(45deg, #7e7e7e, #7e7e7e 10px, #5c5c5c 10px, #5c5c5c 20px);\n",
       "    }\n",
       "    .progress-bar-interrupted, .progress-bar-interrupted::-webkit-progress-bar {\n",
       "        background: #F44336;\n",
       "    }\n",
       "</style>\n"
      ],
      "text/plain": [
       "<IPython.core.display.HTML object>"
      ]
     },
     "metadata": {},
     "output_type": "display_data"
    },
    {
     "data": {
      "text/html": [
       "\n",
       "    <div>\n",
       "      <progress value='3000' class='' max='3000' style='width:300px; height:20px; vertical-align: middle;'></progress>\n",
       "      100.00% [3000/3000 00:00&lt;00:00 Sampling chain 0, 0 divergences]\n",
       "    </div>\n",
       "    "
      ],
      "text/plain": [
       "<IPython.core.display.HTML object>"
      ]
     },
     "metadata": {},
     "output_type": "display_data"
    },
    {
     "name": "stderr",
     "output_type": "stream",
     "text": [
      "Sampling 1 chain for 2_000 tune and 1_000 draw iterations (2_000 + 1_000 draws total) took 1 seconds.\n",
      "Only one chain was sampled, this makes it impossible to run some convergence checks\n"
     ]
    }
   ],
   "source": [
    "with pm.Model() as model:\n",
    "    risk = risk_model(lm_trace, lef_trace)\n",
    "    \n",
    "    # Sample from the model\n",
    "    risk_trace = pm.sample(NUM_SAMPLES, tune=2000, chains=1)"
   ]
  },
  {
   "cell_type": "code",
   "execution_count": 46,
   "id": "ccf1a2a2",
   "metadata": {},
   "outputs": [
    {
     "name": "stderr",
     "output_type": "stream",
     "text": [
      "Got error No model on context stack. trying to find log_likelihood in translation.\n",
      "arviz - WARNING - Shape validation failed: input_shape: (1, 1000), minimum_shape: (chains=2, draws=4)\n"
     ]
    },
    {
     "data": {
      "text/html": [
       "<div>\n",
       "<style scoped>\n",
       "    .dataframe tbody tr th:only-of-type {\n",
       "        vertical-align: middle;\n",
       "    }\n",
       "\n",
       "    .dataframe tbody tr th {\n",
       "        vertical-align: top;\n",
       "    }\n",
       "\n",
       "    .dataframe thead th {\n",
       "        text-align: right;\n",
       "    }\n",
       "</style>\n",
       "<table border=\"1\" class=\"dataframe\">\n",
       "  <thead>\n",
       "    <tr style=\"text-align: right;\">\n",
       "      <th></th>\n",
       "      <th>mean</th>\n",
       "      <th>sd</th>\n",
       "      <th>hdi_5%</th>\n",
       "      <th>hdi_95%</th>\n",
       "      <th>mcse_mean</th>\n",
       "      <th>mcse_sd</th>\n",
       "      <th>ess_bulk</th>\n",
       "      <th>ess_tail</th>\n",
       "      <th>r_hat</th>\n",
       "    </tr>\n",
       "  </thead>\n",
       "  <tbody>\n",
       "    <tr>\n",
       "      <th>risk[0]</th>\n",
       "      <td>13269.866</td>\n",
       "      <td>0.101</td>\n",
       "      <td>13269.700</td>\n",
       "      <td>13270.033</td>\n",
       "      <td>0.005</td>\n",
       "      <td>0.004</td>\n",
       "      <td>412.0</td>\n",
       "      <td>640.0</td>\n",
       "      <td>NaN</td>\n",
       "    </tr>\n",
       "    <tr>\n",
       "      <th>risk[1]</th>\n",
       "      <td>15078.922</td>\n",
       "      <td>0.101</td>\n",
       "      <td>15078.756</td>\n",
       "      <td>15079.090</td>\n",
       "      <td>0.005</td>\n",
       "      <td>0.004</td>\n",
       "      <td>412.0</td>\n",
       "      <td>640.0</td>\n",
       "      <td>NaN</td>\n",
       "    </tr>\n",
       "    <tr>\n",
       "      <th>risk[2]</th>\n",
       "      <td>11466.589</td>\n",
       "      <td>0.101</td>\n",
       "      <td>11466.423</td>\n",
       "      <td>11466.757</td>\n",
       "      <td>0.005</td>\n",
       "      <td>0.004</td>\n",
       "      <td>412.0</td>\n",
       "      <td>640.0</td>\n",
       "      <td>NaN</td>\n",
       "    </tr>\n",
       "    <tr>\n",
       "      <th>risk[3]</th>\n",
       "      <td>16233.134</td>\n",
       "      <td>0.101</td>\n",
       "      <td>16232.968</td>\n",
       "      <td>16233.302</td>\n",
       "      <td>0.005</td>\n",
       "      <td>0.004</td>\n",
       "      <td>412.0</td>\n",
       "      <td>640.0</td>\n",
       "      <td>NaN</td>\n",
       "    </tr>\n",
       "    <tr>\n",
       "      <th>risk[4]</th>\n",
       "      <td>11630.062</td>\n",
       "      <td>0.101</td>\n",
       "      <td>11629.896</td>\n",
       "      <td>11630.229</td>\n",
       "      <td>0.005</td>\n",
       "      <td>0.004</td>\n",
       "      <td>412.0</td>\n",
       "      <td>640.0</td>\n",
       "      <td>NaN</td>\n",
       "    </tr>\n",
       "    <tr>\n",
       "      <th>...</th>\n",
       "      <td>...</td>\n",
       "      <td>...</td>\n",
       "      <td>...</td>\n",
       "      <td>...</td>\n",
       "      <td>...</td>\n",
       "      <td>...</td>\n",
       "      <td>...</td>\n",
       "      <td>...</td>\n",
       "      <td>...</td>\n",
       "    </tr>\n",
       "    <tr>\n",
       "      <th>risk[995]</th>\n",
       "      <td>12198.442</td>\n",
       "      <td>0.101</td>\n",
       "      <td>12198.276</td>\n",
       "      <td>12198.609</td>\n",
       "      <td>0.005</td>\n",
       "      <td>0.004</td>\n",
       "      <td>412.0</td>\n",
       "      <td>640.0</td>\n",
       "      <td>NaN</td>\n",
       "    </tr>\n",
       "    <tr>\n",
       "      <th>risk[996]</th>\n",
       "      <td>12322.464</td>\n",
       "      <td>0.101</td>\n",
       "      <td>12322.298</td>\n",
       "      <td>12322.632</td>\n",
       "      <td>0.005</td>\n",
       "      <td>0.004</td>\n",
       "      <td>412.0</td>\n",
       "      <td>640.0</td>\n",
       "      <td>NaN</td>\n",
       "    </tr>\n",
       "    <tr>\n",
       "      <th>risk[997]</th>\n",
       "      <td>20801.432</td>\n",
       "      <td>0.101</td>\n",
       "      <td>20801.266</td>\n",
       "      <td>20801.600</td>\n",
       "      <td>0.005</td>\n",
       "      <td>0.004</td>\n",
       "      <td>412.0</td>\n",
       "      <td>640.0</td>\n",
       "      <td>NaN</td>\n",
       "    </tr>\n",
       "    <tr>\n",
       "      <th>risk[998]</th>\n",
       "      <td>22996.765</td>\n",
       "      <td>0.101</td>\n",
       "      <td>22996.599</td>\n",
       "      <td>22996.932</td>\n",
       "      <td>0.005</td>\n",
       "      <td>0.004</td>\n",
       "      <td>412.0</td>\n",
       "      <td>640.0</td>\n",
       "      <td>NaN</td>\n",
       "    </tr>\n",
       "    <tr>\n",
       "      <th>risk[999]</th>\n",
       "      <td>14977.968</td>\n",
       "      <td>0.101</td>\n",
       "      <td>14977.802</td>\n",
       "      <td>14978.136</td>\n",
       "      <td>0.005</td>\n",
       "      <td>0.004</td>\n",
       "      <td>412.0</td>\n",
       "      <td>640.0</td>\n",
       "      <td>NaN</td>\n",
       "    </tr>\n",
       "  </tbody>\n",
       "</table>\n",
       "<p>1000 rows × 9 columns</p>\n",
       "</div>"
      ],
      "text/plain": [
       "                mean     sd     hdi_5%    hdi_95%  mcse_mean  mcse_sd  \\\n",
       "risk[0]    13269.866  0.101  13269.700  13270.033      0.005    0.004   \n",
       "risk[1]    15078.922  0.101  15078.756  15079.090      0.005    0.004   \n",
       "risk[2]    11466.589  0.101  11466.423  11466.757      0.005    0.004   \n",
       "risk[3]    16233.134  0.101  16232.968  16233.302      0.005    0.004   \n",
       "risk[4]    11630.062  0.101  11629.896  11630.229      0.005    0.004   \n",
       "...              ...    ...        ...        ...        ...      ...   \n",
       "risk[995]  12198.442  0.101  12198.276  12198.609      0.005    0.004   \n",
       "risk[996]  12322.464  0.101  12322.298  12322.632      0.005    0.004   \n",
       "risk[997]  20801.432  0.101  20801.266  20801.600      0.005    0.004   \n",
       "risk[998]  22996.765  0.101  22996.599  22996.932      0.005    0.004   \n",
       "risk[999]  14977.968  0.101  14977.802  14978.136      0.005    0.004   \n",
       "\n",
       "           ess_bulk  ess_tail  r_hat  \n",
       "risk[0]       412.0     640.0    NaN  \n",
       "risk[1]       412.0     640.0    NaN  \n",
       "risk[2]       412.0     640.0    NaN  \n",
       "risk[3]       412.0     640.0    NaN  \n",
       "risk[4]       412.0     640.0    NaN  \n",
       "...             ...       ...    ...  \n",
       "risk[995]     412.0     640.0    NaN  \n",
       "risk[996]     412.0     640.0    NaN  \n",
       "risk[997]     412.0     640.0    NaN  \n",
       "risk[998]     412.0     640.0    NaN  \n",
       "risk[999]     412.0     640.0    NaN  \n",
       "\n",
       "[1000 rows x 9 columns]"
      ]
     },
     "execution_count": 46,
     "metadata": {},
     "output_type": "execute_result"
    }
   ],
   "source": [
    "# Print risk probability density\n",
    "az.summary(risk_trace, var_names=['risk'], hdi_prob=CONFIDENCE_INTERVAL)"
   ]
  },
  {
   "cell_type": "code",
   "execution_count": 47,
   "id": "574301b1",
   "metadata": {},
   "outputs": [
    {
     "data": {
      "image/png": "[encoded data removed]",
      "text/plain": [
       "<Figure size 432x288 with 1 Axes>"
      ]
     },
     "metadata": {
      "needs_background": "light"
     },
     "output_type": "display_data"
    }
   ],
   "source": [
    "flattened_trace = risk_trace.get_values('risk', combine=True)\n",
    "az.plot_posterior(flattened_trace, hdi_prob=CONFIDENCE_INTERVAL)\n",
    "plt.show()"
   ]
  },
  {
   "cell_type": "code",
   "execution_count": null,
   "id": "7b9405e9",
   "metadata": {},
   "outputs": [],
   "source": []
  },
  {
   "cell_type": "code",
   "execution_count": null,
   "id": "42238c0d",
   "metadata": {},
   "outputs": [],
   "source": []
  }
 ],
 "metadata": {
  "kernelspec": {
   "display_name": "Python 3 (ipykernel)",
   "language": "python",
   "name": "python3"
  },
  "language_info": {
   "codemirror_mode": {
    "name": "ipython",
    "version": 3
   },
   "file_extension": ".py",
   "mimetype": "text/x-python",
   "name": "python",
   "nbconvert_exporter": "python",
   "pygments_lexer": "ipython3",
   "version": "3.9.12"
  }
 },
 "nbformat": 4,
 "nbformat_minor": 5
}
