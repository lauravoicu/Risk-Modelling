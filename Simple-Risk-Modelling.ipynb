{
 "cells": [
  {
   "cell_type": "markdown",
   "id": "48993fde",
   "metadata": {},
   "source": [
    "# Simple Risk Forecasting"
   ]
  },
  {
   "cell_type": "markdown",
   "id": "f50e7816",
   "metadata": {},
   "source": [
    "This code demonstrates a simple risk forecasting simulation using Python. "
   ]
  },
  {
   "cell_type": "code",
   "execution_count": 1,
   "id": "63b3d400",
   "metadata": {},
   "outputs": [],
   "source": [
    "import numpy as np\n",
    "import pandas as pd\n",
    "\n",
    "from scipy import stats\n",
    "from statistics import NormalDist\n",
    "\n",
    "from sklearn.preprocessing import scale\n",
    "import math\n",
    "import random\n",
    "\n",
    "import matplotlib.pyplot as plt\n",
    "import seaborn as sns"
   ]
  },
  {
   "cell_type": "code",
   "execution_count": 2,
   "id": "e18ada92",
   "metadata": {},
   "outputs": [],
   "source": [
    "import warnings\n",
    "warnings.simplefilter(action='ignore', category=FutureWarning)"
   ]
  },
  {
   "cell_type": "markdown",
   "id": "f354d666",
   "metadata": {},
   "source": [
    "***\n",
    "### Define Parameters\n",
    "***"
   ]
  },
  {
   "cell_type": "markdown",
   "id": "794d7abf",
   "metadata": {},
   "source": [
    "Define the minimum and maximum values for the probability of an event, the number of simulation trials, and the parameters for log-normal distribution.\n",
    "\n"
   ]
  },
  {
   "cell_type": "code",
   "execution_count": 3,
   "id": "b5bcdafc",
   "metadata": {},
   "outputs": [],
   "source": [
    "# Define the minimum and maximum values for probability of event\n",
    "MIN = .07\n",
    "MAX = .17\n",
    "# Define the number of trials\n",
    "NUM_SAMPLES = 1000\n",
    "# Define the log loss mean and standard deviation\n",
    "LOG_MEAN = 12.55\n",
    "LOG_STD = 3.06"
   ]
  },
  {
   "cell_type": "code",
   "execution_count": 4,
   "id": "a278e886",
   "metadata": {},
   "outputs": [],
   "source": [
    "# Initialize lists to store trial results\n",
    "trial_results = []"
   ]
  },
  {
   "cell_type": "code",
   "execution_count": 5,
   "id": "74a70099",
   "metadata": {},
   "outputs": [],
   "source": [
    "# Ensure we always get the same numbers\n",
    "# random.seed(42)"
   ]
  },
  {
   "cell_type": "markdown",
   "id": "b7b94637",
   "metadata": {},
   "source": [
    "***\n",
    "### Generate Random Probabilities\n",
    "***"
   ]
  },
  {
   "cell_type": "code",
   "execution_count": 6,
   "id": "ff4fcb06",
   "metadata": {},
   "outputs": [],
   "source": [
    "# Generate random numbers for each trial\n",
    "for trial in range(NUM_SAMPLES):\n",
    "    # Generate a random number between MIN and MAX, not assuming any underlying distribution \n",
    "    random_number = MIN + (MAX-MIN) * random.random()\n",
    "    trial_results.append(random_number)"
   ]
  },
  {
   "cell_type": "code",
   "execution_count": 7,
   "id": "7bdd6707",
   "metadata": {},
   "outputs": [],
   "source": [
    "# Create a DataFrame to store the trial results\n",
    "data = {'Frequency': np.arange(1, NUM_SAMPLES + 1), 'Probability_of_event': trial_results}\n",
    "df = pd.DataFrame(data)"
   ]
  },
  {
   "cell_type": "code",
   "execution_count": 8,
   "id": "440e4f0b",
   "metadata": {},
   "outputs": [
    {
     "data": {
      "text/html": [
       "<div>\n",
       "<style scoped>\n",
       "    .dataframe tbody tr th:only-of-type {\n",
       "        vertical-align: middle;\n",
       "    }\n",
       "\n",
       "    .dataframe tbody tr th {\n",
       "        vertical-align: top;\n",
       "    }\n",
       "\n",
       "    .dataframe thead th {\n",
       "        text-align: right;\n",
       "    }\n",
       "</style>\n",
       "<table border=\"1\" class=\"dataframe\">\n",
       "  <thead>\n",
       "    <tr style=\"text-align: right;\">\n",
       "      <th></th>\n",
       "      <th>Frequency</th>\n",
       "      <th>Probability_of_event</th>\n",
       "    </tr>\n",
       "  </thead>\n",
       "  <tbody>\n",
       "    <tr>\n",
       "      <th>0</th>\n",
       "      <td>1</td>\n",
       "      <td>0.072783</td>\n",
       "    </tr>\n",
       "    <tr>\n",
       "      <th>1</th>\n",
       "      <td>2</td>\n",
       "      <td>0.107784</td>\n",
       "    </tr>\n",
       "    <tr>\n",
       "      <th>2</th>\n",
       "      <td>3</td>\n",
       "      <td>0.121950</td>\n",
       "    </tr>\n",
       "    <tr>\n",
       "      <th>3</th>\n",
       "      <td>4</td>\n",
       "      <td>0.118135</td>\n",
       "    </tr>\n",
       "    <tr>\n",
       "      <th>4</th>\n",
       "      <td>5</td>\n",
       "      <td>0.141986</td>\n",
       "    </tr>\n",
       "    <tr>\n",
       "      <th>...</th>\n",
       "      <td>...</td>\n",
       "      <td>...</td>\n",
       "    </tr>\n",
       "    <tr>\n",
       "      <th>995</th>\n",
       "      <td>996</td>\n",
       "      <td>0.139416</td>\n",
       "    </tr>\n",
       "    <tr>\n",
       "      <th>996</th>\n",
       "      <td>997</td>\n",
       "      <td>0.147615</td>\n",
       "    </tr>\n",
       "    <tr>\n",
       "      <th>997</th>\n",
       "      <td>998</td>\n",
       "      <td>0.119150</td>\n",
       "    </tr>\n",
       "    <tr>\n",
       "      <th>998</th>\n",
       "      <td>999</td>\n",
       "      <td>0.133528</td>\n",
       "    </tr>\n",
       "    <tr>\n",
       "      <th>999</th>\n",
       "      <td>1000</td>\n",
       "      <td>0.091581</td>\n",
       "    </tr>\n",
       "  </tbody>\n",
       "</table>\n",
       "<p>1000 rows × 2 columns</p>\n",
       "</div>"
      ],
      "text/plain": [
       "     Frequency  Probability_of_event\n",
       "0            1              0.072783\n",
       "1            2              0.107784\n",
       "2            3              0.121950\n",
       "3            4              0.118135\n",
       "4            5              0.141986\n",
       "..         ...                   ...\n",
       "995        996              0.139416\n",
       "996        997              0.147615\n",
       "997        998              0.119150\n",
       "998        999              0.133528\n",
       "999       1000              0.091581\n",
       "\n",
       "[1000 rows x 2 columns]"
      ]
     },
     "execution_count": 8,
     "metadata": {},
     "output_type": "execute_result"
    }
   ],
   "source": [
    "# Display the results\n",
    "df"
   ]
  },
  {
   "cell_type": "markdown",
   "id": "9506b84a",
   "metadata": {},
   "source": [
    "***\n",
    "### Simulate Events\n",
    "***"
   ]
  },
  {
   "cell_type": "markdown",
   "id": "b37ab68d",
   "metadata": {},
   "source": [
    "Let's simulate events based on the generated probabilities."
   ]
  },
  {
   "cell_type": "code",
   "execution_count": 9,
   "id": "c74be64c",
   "metadata": {},
   "outputs": [],
   "source": [
    "# Each of the probabilities may lead to a simulated event\n",
    "df['Simulated_event'] = df['Probability_of_event'].apply(lambda x : int(round(random.random() < x)))"
   ]
  },
  {
   "cell_type": "code",
   "execution_count": 10,
   "id": "9b2c4833",
   "metadata": {},
   "outputs": [
    {
     "data": {
      "text/html": [
       "<div>\n",
       "<style scoped>\n",
       "    .dataframe tbody tr th:only-of-type {\n",
       "        vertical-align: middle;\n",
       "    }\n",
       "\n",
       "    .dataframe tbody tr th {\n",
       "        vertical-align: top;\n",
       "    }\n",
       "\n",
       "    .dataframe thead th {\n",
       "        text-align: right;\n",
       "    }\n",
       "</style>\n",
       "<table border=\"1\" class=\"dataframe\">\n",
       "  <thead>\n",
       "    <tr style=\"text-align: right;\">\n",
       "      <th></th>\n",
       "      <th>Frequency</th>\n",
       "      <th>Probability_of_event</th>\n",
       "      <th>Simulated_event</th>\n",
       "    </tr>\n",
       "  </thead>\n",
       "  <tbody>\n",
       "    <tr>\n",
       "      <th>0</th>\n",
       "      <td>1</td>\n",
       "      <td>0.072783</td>\n",
       "      <td>0</td>\n",
       "    </tr>\n",
       "    <tr>\n",
       "      <th>1</th>\n",
       "      <td>2</td>\n",
       "      <td>0.107784</td>\n",
       "      <td>0</td>\n",
       "    </tr>\n",
       "    <tr>\n",
       "      <th>2</th>\n",
       "      <td>3</td>\n",
       "      <td>0.121950</td>\n",
       "      <td>0</td>\n",
       "    </tr>\n",
       "    <tr>\n",
       "      <th>3</th>\n",
       "      <td>4</td>\n",
       "      <td>0.118135</td>\n",
       "      <td>0</td>\n",
       "    </tr>\n",
       "    <tr>\n",
       "      <th>4</th>\n",
       "      <td>5</td>\n",
       "      <td>0.141986</td>\n",
       "      <td>1</td>\n",
       "    </tr>\n",
       "    <tr>\n",
       "      <th>...</th>\n",
       "      <td>...</td>\n",
       "      <td>...</td>\n",
       "      <td>...</td>\n",
       "    </tr>\n",
       "    <tr>\n",
       "      <th>995</th>\n",
       "      <td>996</td>\n",
       "      <td>0.139416</td>\n",
       "      <td>0</td>\n",
       "    </tr>\n",
       "    <tr>\n",
       "      <th>996</th>\n",
       "      <td>997</td>\n",
       "      <td>0.147615</td>\n",
       "      <td>0</td>\n",
       "    </tr>\n",
       "    <tr>\n",
       "      <th>997</th>\n",
       "      <td>998</td>\n",
       "      <td>0.119150</td>\n",
       "      <td>0</td>\n",
       "    </tr>\n",
       "    <tr>\n",
       "      <th>998</th>\n",
       "      <td>999</td>\n",
       "      <td>0.133528</td>\n",
       "      <td>1</td>\n",
       "    </tr>\n",
       "    <tr>\n",
       "      <th>999</th>\n",
       "      <td>1000</td>\n",
       "      <td>0.091581</td>\n",
       "      <td>0</td>\n",
       "    </tr>\n",
       "  </tbody>\n",
       "</table>\n",
       "<p>1000 rows × 3 columns</p>\n",
       "</div>"
      ],
      "text/plain": [
       "     Frequency  Probability_of_event  Simulated_event\n",
       "0            1              0.072783                0\n",
       "1            2              0.107784                0\n",
       "2            3              0.121950                0\n",
       "3            4              0.118135                0\n",
       "4            5              0.141986                1\n",
       "..         ...                   ...              ...\n",
       "995        996              0.139416                0\n",
       "996        997              0.147615                0\n",
       "997        998              0.119150                0\n",
       "998        999              0.133528                1\n",
       "999       1000              0.091581                0\n",
       "\n",
       "[1000 rows x 3 columns]"
      ]
     },
     "execution_count": 10,
     "metadata": {},
     "output_type": "execute_result"
    }
   ],
   "source": [
    "# Display the results\n",
    "df"
   ]
  },
  {
   "cell_type": "markdown",
   "id": "58514ae9",
   "metadata": {},
   "source": [
    "***\n",
    "### Simulate Losses\n",
    "***"
   ]
  },
  {
   "cell_type": "markdown",
   "id": "a065979d",
   "metadata": {},
   "source": [
    "Let's simulate losses based on a log-normal distribution."
   ]
  },
  {
   "cell_type": "code",
   "execution_count": 11,
   "id": "6a510d17",
   "metadata": {},
   "outputs": [],
   "source": [
    "res = NormalDist(mu=LOG_MEAN, sigma=LOG_STD).inv_cdf(random.uniform(0, 1))"
   ]
  },
  {
   "cell_type": "code",
   "execution_count": 12,
   "id": "dd54cdb4",
   "metadata": {},
   "outputs": [],
   "source": [
    "# Losses are log-normally distributed, around given mean and standard deviation\n",
    "dist = []\n",
    "for i in range(NUM_SAMPLES):\n",
    "    res = NormalDist(mu=LOG_MEAN, sigma=LOG_STD).inv_cdf(random.uniform(0, 1))\n",
    "    dist.append(res)"
   ]
  },
  {
   "cell_type": "code",
   "execution_count": 13,
   "id": "8cc53dcb",
   "metadata": {},
   "outputs": [],
   "source": [
    "df['Possible_loss'] = pd.Series(dist, index=df.index)"
   ]
  },
  {
   "cell_type": "code",
   "execution_count": 14,
   "id": "6599564c",
   "metadata": {},
   "outputs": [
    {
     "data": {
      "text/html": [
       "<div>\n",
       "<style scoped>\n",
       "    .dataframe tbody tr th:only-of-type {\n",
       "        vertical-align: middle;\n",
       "    }\n",
       "\n",
       "    .dataframe tbody tr th {\n",
       "        vertical-align: top;\n",
       "    }\n",
       "\n",
       "    .dataframe thead th {\n",
       "        text-align: right;\n",
       "    }\n",
       "</style>\n",
       "<table border=\"1\" class=\"dataframe\">\n",
       "  <thead>\n",
       "    <tr style=\"text-align: right;\">\n",
       "      <th></th>\n",
       "      <th>Frequency</th>\n",
       "      <th>Probability_of_event</th>\n",
       "      <th>Simulated_event</th>\n",
       "      <th>Possible_loss</th>\n",
       "    </tr>\n",
       "  </thead>\n",
       "  <tbody>\n",
       "    <tr>\n",
       "      <th>0</th>\n",
       "      <td>1</td>\n",
       "      <td>0.072783</td>\n",
       "      <td>0</td>\n",
       "      <td>13.271678</td>\n",
       "    </tr>\n",
       "    <tr>\n",
       "      <th>1</th>\n",
       "      <td>2</td>\n",
       "      <td>0.107784</td>\n",
       "      <td>0</td>\n",
       "      <td>11.725442</td>\n",
       "    </tr>\n",
       "    <tr>\n",
       "      <th>2</th>\n",
       "      <td>3</td>\n",
       "      <td>0.121950</td>\n",
       "      <td>0</td>\n",
       "      <td>9.371626</td>\n",
       "    </tr>\n",
       "    <tr>\n",
       "      <th>3</th>\n",
       "      <td>4</td>\n",
       "      <td>0.118135</td>\n",
       "      <td>0</td>\n",
       "      <td>10.923560</td>\n",
       "    </tr>\n",
       "    <tr>\n",
       "      <th>4</th>\n",
       "      <td>5</td>\n",
       "      <td>0.141986</td>\n",
       "      <td>1</td>\n",
       "      <td>6.662659</td>\n",
       "    </tr>\n",
       "    <tr>\n",
       "      <th>...</th>\n",
       "      <td>...</td>\n",
       "      <td>...</td>\n",
       "      <td>...</td>\n",
       "      <td>...</td>\n",
       "    </tr>\n",
       "    <tr>\n",
       "      <th>995</th>\n",
       "      <td>996</td>\n",
       "      <td>0.139416</td>\n",
       "      <td>0</td>\n",
       "      <td>9.127598</td>\n",
       "    </tr>\n",
       "    <tr>\n",
       "      <th>996</th>\n",
       "      <td>997</td>\n",
       "      <td>0.147615</td>\n",
       "      <td>0</td>\n",
       "      <td>10.357502</td>\n",
       "    </tr>\n",
       "    <tr>\n",
       "      <th>997</th>\n",
       "      <td>998</td>\n",
       "      <td>0.119150</td>\n",
       "      <td>0</td>\n",
       "      <td>8.054368</td>\n",
       "    </tr>\n",
       "    <tr>\n",
       "      <th>998</th>\n",
       "      <td>999</td>\n",
       "      <td>0.133528</td>\n",
       "      <td>1</td>\n",
       "      <td>13.917978</td>\n",
       "    </tr>\n",
       "    <tr>\n",
       "      <th>999</th>\n",
       "      <td>1000</td>\n",
       "      <td>0.091581</td>\n",
       "      <td>0</td>\n",
       "      <td>10.466208</td>\n",
       "    </tr>\n",
       "  </tbody>\n",
       "</table>\n",
       "<p>1000 rows × 4 columns</p>\n",
       "</div>"
      ],
      "text/plain": [
       "     Frequency  Probability_of_event  Simulated_event  Possible_loss\n",
       "0            1              0.072783                0      13.271678\n",
       "1            2              0.107784                0      11.725442\n",
       "2            3              0.121950                0       9.371626\n",
       "3            4              0.118135                0      10.923560\n",
       "4            5              0.141986                1       6.662659\n",
       "..         ...                   ...              ...            ...\n",
       "995        996              0.139416                0       9.127598\n",
       "996        997              0.147615                0      10.357502\n",
       "997        998              0.119150                0       8.054368\n",
       "998        999              0.133528                1      13.917978\n",
       "999       1000              0.091581                0      10.466208\n",
       "\n",
       "[1000 rows x 4 columns]"
      ]
     },
     "execution_count": 14,
     "metadata": {},
     "output_type": "execute_result"
    }
   ],
   "source": [
    "# Display the results\n",
    "df"
   ]
  },
  {
   "cell_type": "markdown",
   "id": "ab4f279d",
   "metadata": {},
   "source": [
    "***\n",
    "### Calculate Simulated Loss\n",
    "***"
   ]
  },
  {
   "cell_type": "markdown",
   "id": "b1bf9457",
   "metadata": {},
   "source": [
    "Calculate simulated loss for each trial"
   ]
  },
  {
   "cell_type": "code",
   "execution_count": 15,
   "id": "0a53dea2",
   "metadata": {},
   "outputs": [],
   "source": [
    "df['Simulated_loss'] = df['Simulated_event'] * df['Possible_loss']"
   ]
  },
  {
   "cell_type": "markdown",
   "id": "8990200f",
   "metadata": {},
   "source": [
    "***\n",
    "### Logarithm Transformation\n",
    "***"
   ]
  },
  {
   "cell_type": "code",
   "execution_count": 16,
   "id": "23589a50",
   "metadata": {},
   "outputs": [],
   "source": [
    "def logarithmbase10(x):\n",
    "    try:\n",
    "        return math.log10(x)\n",
    "    except:\n",
    "        return 0.0001"
   ]
  },
  {
   "cell_type": "code",
   "execution_count": 17,
   "id": "f20eda37",
   "metadata": {},
   "outputs": [],
   "source": [
    "df['Log_simulated_loss'] = df['Simulated_loss'].apply(lambda x : logarithmbase10(x))"
   ]
  },
  {
   "cell_type": "code",
   "execution_count": 18,
   "id": "0e00a1cd",
   "metadata": {},
   "outputs": [
    {
     "data": {
      "text/html": [
       "<div>\n",
       "<style scoped>\n",
       "    .dataframe tbody tr th:only-of-type {\n",
       "        vertical-align: middle;\n",
       "    }\n",
       "\n",
       "    .dataframe tbody tr th {\n",
       "        vertical-align: top;\n",
       "    }\n",
       "\n",
       "    .dataframe thead th {\n",
       "        text-align: right;\n",
       "    }\n",
       "</style>\n",
       "<table border=\"1\" class=\"dataframe\">\n",
       "  <thead>\n",
       "    <tr style=\"text-align: right;\">\n",
       "      <th></th>\n",
       "      <th>Frequency</th>\n",
       "      <th>Probability_of_event</th>\n",
       "      <th>Simulated_event</th>\n",
       "      <th>Possible_loss</th>\n",
       "      <th>Simulated_loss</th>\n",
       "      <th>Log_simulated_loss</th>\n",
       "    </tr>\n",
       "  </thead>\n",
       "  <tbody>\n",
       "    <tr>\n",
       "      <th>0</th>\n",
       "      <td>1</td>\n",
       "      <td>0.072783</td>\n",
       "      <td>0</td>\n",
       "      <td>13.271678</td>\n",
       "      <td>0.000000</td>\n",
       "      <td>0.000100</td>\n",
       "    </tr>\n",
       "    <tr>\n",
       "      <th>1</th>\n",
       "      <td>2</td>\n",
       "      <td>0.107784</td>\n",
       "      <td>0</td>\n",
       "      <td>11.725442</td>\n",
       "      <td>0.000000</td>\n",
       "      <td>0.000100</td>\n",
       "    </tr>\n",
       "    <tr>\n",
       "      <th>2</th>\n",
       "      <td>3</td>\n",
       "      <td>0.121950</td>\n",
       "      <td>0</td>\n",
       "      <td>9.371626</td>\n",
       "      <td>0.000000</td>\n",
       "      <td>0.000100</td>\n",
       "    </tr>\n",
       "    <tr>\n",
       "      <th>3</th>\n",
       "      <td>4</td>\n",
       "      <td>0.118135</td>\n",
       "      <td>0</td>\n",
       "      <td>10.923560</td>\n",
       "      <td>0.000000</td>\n",
       "      <td>0.000100</td>\n",
       "    </tr>\n",
       "    <tr>\n",
       "      <th>4</th>\n",
       "      <td>5</td>\n",
       "      <td>0.141986</td>\n",
       "      <td>1</td>\n",
       "      <td>6.662659</td>\n",
       "      <td>6.662659</td>\n",
       "      <td>0.823648</td>\n",
       "    </tr>\n",
       "    <tr>\n",
       "      <th>...</th>\n",
       "      <td>...</td>\n",
       "      <td>...</td>\n",
       "      <td>...</td>\n",
       "      <td>...</td>\n",
       "      <td>...</td>\n",
       "      <td>...</td>\n",
       "    </tr>\n",
       "    <tr>\n",
       "      <th>995</th>\n",
       "      <td>996</td>\n",
       "      <td>0.139416</td>\n",
       "      <td>0</td>\n",
       "      <td>9.127598</td>\n",
       "      <td>0.000000</td>\n",
       "      <td>0.000100</td>\n",
       "    </tr>\n",
       "    <tr>\n",
       "      <th>996</th>\n",
       "      <td>997</td>\n",
       "      <td>0.147615</td>\n",
       "      <td>0</td>\n",
       "      <td>10.357502</td>\n",
       "      <td>0.000000</td>\n",
       "      <td>0.000100</td>\n",
       "    </tr>\n",
       "    <tr>\n",
       "      <th>997</th>\n",
       "      <td>998</td>\n",
       "      <td>0.119150</td>\n",
       "      <td>0</td>\n",
       "      <td>8.054368</td>\n",
       "      <td>0.000000</td>\n",
       "      <td>0.000100</td>\n",
       "    </tr>\n",
       "    <tr>\n",
       "      <th>998</th>\n",
       "      <td>999</td>\n",
       "      <td>0.133528</td>\n",
       "      <td>1</td>\n",
       "      <td>13.917978</td>\n",
       "      <td>13.917978</td>\n",
       "      <td>1.143576</td>\n",
       "    </tr>\n",
       "    <tr>\n",
       "      <th>999</th>\n",
       "      <td>1000</td>\n",
       "      <td>0.091581</td>\n",
       "      <td>0</td>\n",
       "      <td>10.466208</td>\n",
       "      <td>0.000000</td>\n",
       "      <td>0.000100</td>\n",
       "    </tr>\n",
       "  </tbody>\n",
       "</table>\n",
       "<p>1000 rows × 6 columns</p>\n",
       "</div>"
      ],
      "text/plain": [
       "     Frequency  Probability_of_event  Simulated_event  Possible_loss  \\\n",
       "0            1              0.072783                0      13.271678   \n",
       "1            2              0.107784                0      11.725442   \n",
       "2            3              0.121950                0       9.371626   \n",
       "3            4              0.118135                0      10.923560   \n",
       "4            5              0.141986                1       6.662659   \n",
       "..         ...                   ...              ...            ...   \n",
       "995        996              0.139416                0       9.127598   \n",
       "996        997              0.147615                0      10.357502   \n",
       "997        998              0.119150                0       8.054368   \n",
       "998        999              0.133528                1      13.917978   \n",
       "999       1000              0.091581                0      10.466208   \n",
       "\n",
       "     Simulated_loss  Log_simulated_loss  \n",
       "0          0.000000            0.000100  \n",
       "1          0.000000            0.000100  \n",
       "2          0.000000            0.000100  \n",
       "3          0.000000            0.000100  \n",
       "4          6.662659            0.823648  \n",
       "..              ...                 ...  \n",
       "995        0.000000            0.000100  \n",
       "996        0.000000            0.000100  \n",
       "997        0.000000            0.000100  \n",
       "998       13.917978            1.143576  \n",
       "999        0.000000            0.000100  \n",
       "\n",
       "[1000 rows x 6 columns]"
      ]
     },
     "execution_count": 18,
     "metadata": {},
     "output_type": "execute_result"
    }
   ],
   "source": [
    "# Display the results\n",
    "df"
   ]
  },
  {
   "cell_type": "markdown",
   "id": "804d3cc5",
   "metadata": {},
   "source": [
    "***\n",
    "### Visualization\n",
    "***"
   ]
  },
  {
   "cell_type": "code",
   "execution_count": 19,
   "id": "fe4141b0",
   "metadata": {},
   "outputs": [
    {
     "data": {
      "image/png": "[encoded data removed]",
      "text/plain": [
       "<Figure size 576x288 with 1 Axes>"
      ]
     },
     "metadata": {
      "needs_background": "light"
     },
     "output_type": "display_data"
    }
   ],
   "source": [
    "# Bar plot for simulated events\n",
    "\n",
    "fig, ax = plt.subplots(figsize=(8,4))\n",
    "sns.barplot(data = df, x = df['Simulated_event'].value_counts().keys(), y = df['Simulated_event'].value_counts()/len(df)*100, \n",
    "            palette=['darkred', 'lightblue'])\n",
    "plt.xlabel('')\n",
    "plt.ylabel('')\n",
    "plt.title('Simulated years without/with events', size=12, color='#4f4e4e')\n",
    "plt.xticks(size=8, color='#4f4e4e')\n",
    "plt.yticks([], [])\n",
    "# plt.text(x=1, y=90, s='N events simulated in most years', \n",
    "#                  color='darkgrey', fontsize=8, horizontalalignment='center')\n",
    "plt.text(x=0, y=2, s=\" \".join([(round(df['Simulated_event'].value_counts()[0]/len(df)*100, 2)).astype('str'), \"%\"]),  \n",
    "                 color='white', fontsize=8, horizontalalignment='center')\n",
    "plt.text(x=1, y=2, s=\" \".join([(round(df['Simulated_event'].value_counts()[1]/len(df)*100, 2)).astype('str'), \"%\"]),  \n",
    "                 color='white', fontsize=8, horizontalalignment='center')\n",
    "sns.despine(left=True, bottom=True)"
   ]
  },
  {
   "cell_type": "code",
   "execution_count": 20,
   "id": "6a25e386",
   "metadata": {},
   "outputs": [],
   "source": [
    "actual_losses = [x for x in df['Log_simulated_loss'] if x > 0.0001]"
   ]
  },
  {
   "cell_type": "code",
   "execution_count": 21,
   "id": "38dd4890",
   "metadata": {},
   "outputs": [
    {
     "data": {
      "image/png": "[encoded data removed]",
      "text/plain": [
       "<Figure size 1440x720 with 1 Axes>"
      ]
     },
     "metadata": {
      "needs_background": "light"
     },
     "output_type": "display_data"
    }
   ],
   "source": [
    "# Histogram for simulated losses\n",
    "\n",
    "plt.figure(figsize=(20, 10))\n",
    "sns.distplot(actual_losses, bins=30, color='darkred')\n",
    "plt.xlabel('')\n",
    "plt.ylabel('')\n",
    "plt.title('Simulated Losses [$ MM]', size=12, color='#4f4e4e')\n",
    "plt.xticks(size=8, color='#4f4e4e')\n",
    "plt.yticks([], [])\n",
    "sns.despine(left=True, bottom=True);"
   ]
  },
  {
   "cell_type": "code",
   "execution_count": null,
   "id": "183dad28",
   "metadata": {},
   "outputs": [],
   "source": []
  }
 ],
 "metadata": {
  "kernelspec": {
   "display_name": "Python 3 (ipykernel)",
   "language": "python",
   "name": "python3"
  },
  "language_info": {
   "codemirror_mode": {
    "name": "ipython",
    "version": 3
   },
   "file_extension": ".py",
   "mimetype": "text/x-python",
   "name": "python",
   "nbconvert_exporter": "python",
   "pygments_lexer": "ipython3",
   "version": "3.9.12"
  }
 },
 "nbformat": 4,
 "nbformat_minor": 5
}
