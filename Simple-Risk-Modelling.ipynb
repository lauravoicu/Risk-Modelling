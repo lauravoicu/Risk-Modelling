{
 "cells": [
  {
   "cell_type": "markdown",
   "id": "48993fde",
   "metadata": {},
   "source": [
    "# Simple Risk Forecasting"
   ]
  },
  {
   "cell_type": "markdown",
   "id": "f50e7816",
   "metadata": {},
   "source": [
    "This code demonstrates a simple risk forecasting simulation using Python. "
   ]
  },
  {
   "cell_type": "code",
   "execution_count": 1,
   "id": "63b3d400",
   "metadata": {},
   "outputs": [],
   "source": [
    "import numpy as np\n",
    "import pandas as pd\n",
    "\n",
    "from scipy import stats\n",
    "from statistics import NormalDist\n",
    "\n",
    "from sklearn.preprocessing import scale\n",
    "import math\n",
    "import random\n",
    "\n",
    "import matplotlib.pyplot as plt\n",
    "import seaborn as sns"
   ]
  },
  {
   "cell_type": "code",
   "execution_count": 2,
   "id": "e18ada92",
   "metadata": {},
   "outputs": [],
   "source": [
    "import warnings\n",
    "warnings.simplefilter(action='ignore', category=FutureWarning)"
   ]
  },
  {
   "cell_type": "markdown",
   "id": "f354d666",
   "metadata": {},
   "source": [
    "***\n",
    "### Define Parameters\n",
    "***"
   ]
  },
  {
   "cell_type": "markdown",
   "id": "794d7abf",
   "metadata": {},
   "source": [
    "Define the minimum and maximum values for the probability of an event, the number of simulation trials, and the parameters for log-normal distribution.\n",
    "\n"
   ]
  },
  {
   "cell_type": "code",
   "execution_count": 3,
   "id": "b5bcdafc",
   "metadata": {},
   "outputs": [],
   "source": [
    "# Define the minimum and maximum values for probability of event\n",
    "MIN = .07\n",
    "MAX = .17\n",
    "# Define the number of trials\n",
    "NUM_SAMPLES = 1000\n",
    "# Define the log loss mean and standard deviation\n",
    "LOG_MEAN = 12.55\n",
    "LOG_STD = 3.06"
   ]
  },
  {
   "cell_type": "code",
   "execution_count": 4,
   "id": "a278e886",
   "metadata": {},
   "outputs": [],
   "source": [
    "# Initialize lists to store trial results\n",
    "trial_results = []"
   ]
  },
  {
   "cell_type": "code",
   "execution_count": 5,
   "id": "74a70099",
   "metadata": {},
   "outputs": [],
   "source": [
    "# Ensure we always get the same numbers\n",
    "# random.seed(42)"
   ]
  },
  {
   "cell_type": "markdown",
   "id": "b7b94637",
   "metadata": {},
   "source": [
    "***\n",
    "### Generate Random Probabilities\n",
    "***"
   ]
  },
  {
   "cell_type": "code",
   "execution_count": 6,
   "id": "ff4fcb06",
   "metadata": {},
   "outputs": [],
   "source": [
    "# Generate random numbers for each trial\n",
    "for trial in range(NUM_SAMPLES):\n",
    "    # Generate a random number between MIN and MAX, not assuming any underlying distribution \n",
    "    random_number = MIN + (MAX-MIN) * random.random()\n",
    "    trial_results.append(random_number)"
   ]
  },
  {
   "cell_type": "code",
   "execution_count": 7,
   "id": "7bdd6707",
   "metadata": {},
   "outputs": [],
   "source": [
    "# Create a DataFrame to store the trial results\n",
    "data = {'Frequency': np.arange(1, NUM_SAMPLES + 1), 'Probability_of_event': trial_results}\n",
    "df = pd.DataFrame(data)"
   ]
  },
  {
   "cell_type": "code",
   "execution_count": 8,
   "id": "440e4f0b",
   "metadata": {},
   "outputs": [
    {
     "data": {
      "text/html": [
       "<div>\n",
       "<style scoped>\n",
       "    .dataframe tbody tr th:only-of-type {\n",
       "        vertical-align: middle;\n",
       "    }\n",
       "\n",
       "    .dataframe tbody tr th {\n",
       "        vertical-align: top;\n",
       "    }\n",
       "\n",
       "    .dataframe thead th {\n",
       "        text-align: right;\n",
       "    }\n",
       "</style>\n",
       "<table border=\"1\" class=\"dataframe\">\n",
       "  <thead>\n",
       "    <tr style=\"text-align: right;\">\n",
       "      <th></th>\n",
       "      <th>Frequency</th>\n",
       "      <th>Probability_of_event</th>\n",
       "    </tr>\n",
       "  </thead>\n",
       "  <tbody>\n",
       "    <tr>\n",
       "      <th>0</th>\n",
       "      <td>1</td>\n",
       "      <td>0.128540</td>\n",
       "    </tr>\n",
       "    <tr>\n",
       "      <th>1</th>\n",
       "      <td>2</td>\n",
       "      <td>0.079846</td>\n",
       "    </tr>\n",
       "    <tr>\n",
       "      <th>2</th>\n",
       "      <td>3</td>\n",
       "      <td>0.120144</td>\n",
       "    </tr>\n",
       "    <tr>\n",
       "      <th>3</th>\n",
       "      <td>4</td>\n",
       "      <td>0.106058</td>\n",
       "    </tr>\n",
       "    <tr>\n",
       "      <th>4</th>\n",
       "      <td>5</td>\n",
       "      <td>0.074657</td>\n",
       "    </tr>\n",
       "    <tr>\n",
       "      <th>...</th>\n",
       "      <td>...</td>\n",
       "      <td>...</td>\n",
       "    </tr>\n",
       "    <tr>\n",
       "      <th>995</th>\n",
       "      <td>996</td>\n",
       "      <td>0.075342</td>\n",
       "    </tr>\n",
       "    <tr>\n",
       "      <th>996</th>\n",
       "      <td>997</td>\n",
       "      <td>0.076830</td>\n",
       "    </tr>\n",
       "    <tr>\n",
       "      <th>997</th>\n",
       "      <td>998</td>\n",
       "      <td>0.145549</td>\n",
       "    </tr>\n",
       "    <tr>\n",
       "      <th>998</th>\n",
       "      <td>999</td>\n",
       "      <td>0.119430</td>\n",
       "    </tr>\n",
       "    <tr>\n",
       "      <th>999</th>\n",
       "      <td>1000</td>\n",
       "      <td>0.162455</td>\n",
       "    </tr>\n",
       "  </tbody>\n",
       "</table>\n",
       "<p>1000 rows × 2 columns</p>\n",
       "</div>"
      ],
      "text/plain": [
       "     Frequency  Probability_of_event\n",
       "0            1              0.128540\n",
       "1            2              0.079846\n",
       "2            3              0.120144\n",
       "3            4              0.106058\n",
       "4            5              0.074657\n",
       "..         ...                   ...\n",
       "995        996              0.075342\n",
       "996        997              0.076830\n",
       "997        998              0.145549\n",
       "998        999              0.119430\n",
       "999       1000              0.162455\n",
       "\n",
       "[1000 rows x 2 columns]"
      ]
     },
     "execution_count": 8,
     "metadata": {},
     "output_type": "execute_result"
    }
   ],
   "source": [
    "# Display the results\n",
    "df"
   ]
  },
  {
   "cell_type": "markdown",
   "id": "9506b84a",
   "metadata": {},
   "source": [
    "***\n",
    "### Simulate Events\n",
    "***"
   ]
  },
  {
   "cell_type": "markdown",
   "id": "b37ab68d",
   "metadata": {},
   "source": [
    "Let's simulate events based on the generated probabilities."
   ]
  },
  {
   "cell_type": "code",
   "execution_count": 9,
   "id": "c74be64c",
   "metadata": {},
   "outputs": [],
   "source": [
    "# Each of the probabilities may lead to a simulated event\n",
    "# Simulate events based on adjusted probabilities\n",
    "df['Simulated_event'] = df['Probability_of_event'].apply(lambda x: 1 if random.random() < x else 0)"
   ]
  },
  {
   "cell_type": "code",
   "execution_count": 10,
   "id": "9b2c4833",
   "metadata": {},
   "outputs": [
    {
     "data": {
      "text/html": [
       "<div>\n",
       "<style scoped>\n",
       "    .dataframe tbody tr th:only-of-type {\n",
       "        vertical-align: middle;\n",
       "    }\n",
       "\n",
       "    .dataframe tbody tr th {\n",
       "        vertical-align: top;\n",
       "    }\n",
       "\n",
       "    .dataframe thead th {\n",
       "        text-align: right;\n",
       "    }\n",
       "</style>\n",
       "<table border=\"1\" class=\"dataframe\">\n",
       "  <thead>\n",
       "    <tr style=\"text-align: right;\">\n",
       "      <th></th>\n",
       "      <th>Frequency</th>\n",
       "      <th>Probability_of_event</th>\n",
       "      <th>Simulated_event</th>\n",
       "    </tr>\n",
       "  </thead>\n",
       "  <tbody>\n",
       "    <tr>\n",
       "      <th>0</th>\n",
       "      <td>1</td>\n",
       "      <td>0.128540</td>\n",
       "      <td>0</td>\n",
       "    </tr>\n",
       "    <tr>\n",
       "      <th>1</th>\n",
       "      <td>2</td>\n",
       "      <td>0.079846</td>\n",
       "      <td>0</td>\n",
       "    </tr>\n",
       "    <tr>\n",
       "      <th>2</th>\n",
       "      <td>3</td>\n",
       "      <td>0.120144</td>\n",
       "      <td>0</td>\n",
       "    </tr>\n",
       "    <tr>\n",
       "      <th>3</th>\n",
       "      <td>4</td>\n",
       "      <td>0.106058</td>\n",
       "      <td>0</td>\n",
       "    </tr>\n",
       "    <tr>\n",
       "      <th>4</th>\n",
       "      <td>5</td>\n",
       "      <td>0.074657</td>\n",
       "      <td>0</td>\n",
       "    </tr>\n",
       "    <tr>\n",
       "      <th>...</th>\n",
       "      <td>...</td>\n",
       "      <td>...</td>\n",
       "      <td>...</td>\n",
       "    </tr>\n",
       "    <tr>\n",
       "      <th>995</th>\n",
       "      <td>996</td>\n",
       "      <td>0.075342</td>\n",
       "      <td>0</td>\n",
       "    </tr>\n",
       "    <tr>\n",
       "      <th>996</th>\n",
       "      <td>997</td>\n",
       "      <td>0.076830</td>\n",
       "      <td>1</td>\n",
       "    </tr>\n",
       "    <tr>\n",
       "      <th>997</th>\n",
       "      <td>998</td>\n",
       "      <td>0.145549</td>\n",
       "      <td>0</td>\n",
       "    </tr>\n",
       "    <tr>\n",
       "      <th>998</th>\n",
       "      <td>999</td>\n",
       "      <td>0.119430</td>\n",
       "      <td>0</td>\n",
       "    </tr>\n",
       "    <tr>\n",
       "      <th>999</th>\n",
       "      <td>1000</td>\n",
       "      <td>0.162455</td>\n",
       "      <td>0</td>\n",
       "    </tr>\n",
       "  </tbody>\n",
       "</table>\n",
       "<p>1000 rows × 3 columns</p>\n",
       "</div>"
      ],
      "text/plain": [
       "     Frequency  Probability_of_event  Simulated_event\n",
       "0            1              0.128540                0\n",
       "1            2              0.079846                0\n",
       "2            3              0.120144                0\n",
       "3            4              0.106058                0\n",
       "4            5              0.074657                0\n",
       "..         ...                   ...              ...\n",
       "995        996              0.075342                0\n",
       "996        997              0.076830                1\n",
       "997        998              0.145549                0\n",
       "998        999              0.119430                0\n",
       "999       1000              0.162455                0\n",
       "\n",
       "[1000 rows x 3 columns]"
      ]
     },
     "execution_count": 10,
     "metadata": {},
     "output_type": "execute_result"
    }
   ],
   "source": [
    "# Display the results\n",
    "df"
   ]
  },
  {
   "cell_type": "markdown",
   "id": "58514ae9",
   "metadata": {},
   "source": [
    "***\n",
    "### Simulate Losses\n",
    "***"
   ]
  },
  {
   "cell_type": "markdown",
   "id": "a065979d",
   "metadata": {},
   "source": [
    "Let's simulate losses based on a log-normal distribution."
   ]
  },
  {
   "cell_type": "code",
   "execution_count": 11,
   "id": "dd54cdb4",
   "metadata": {},
   "outputs": [],
   "source": [
    "# Use np.random.lognormal instead of NormalDist\n",
    "dist = np.random.lognormal(mean=LOG_MEAN, sigma=LOG_STD, size=NUM_SAMPLES)\n",
    "df['Possible_loss'] = dist"
   ]
  },
  {
   "cell_type": "code",
   "execution_count": 12,
   "id": "6599564c",
   "metadata": {},
   "outputs": [
    {
     "data": {
      "text/html": [
       "<div>\n",
       "<style scoped>\n",
       "    .dataframe tbody tr th:only-of-type {\n",
       "        vertical-align: middle;\n",
       "    }\n",
       "\n",
       "    .dataframe tbody tr th {\n",
       "        vertical-align: top;\n",
       "    }\n",
       "\n",
       "    .dataframe thead th {\n",
       "        text-align: right;\n",
       "    }\n",
       "</style>\n",
       "<table border=\"1\" class=\"dataframe\">\n",
       "  <thead>\n",
       "    <tr style=\"text-align: right;\">\n",
       "      <th></th>\n",
       "      <th>Frequency</th>\n",
       "      <th>Probability_of_event</th>\n",
       "      <th>Simulated_event</th>\n",
       "      <th>Possible_loss</th>\n",
       "    </tr>\n",
       "  </thead>\n",
       "  <tbody>\n",
       "    <tr>\n",
       "      <th>0</th>\n",
       "      <td>1</td>\n",
       "      <td>0.128540</td>\n",
       "      <td>0</td>\n",
       "      <td>3.147545e+06</td>\n",
       "    </tr>\n",
       "    <tr>\n",
       "      <th>1</th>\n",
       "      <td>2</td>\n",
       "      <td>0.079846</td>\n",
       "      <td>0</td>\n",
       "      <td>1.259383e+04</td>\n",
       "    </tr>\n",
       "    <tr>\n",
       "      <th>2</th>\n",
       "      <td>3</td>\n",
       "      <td>0.120144</td>\n",
       "      <td>0</td>\n",
       "      <td>2.396118e+07</td>\n",
       "    </tr>\n",
       "    <tr>\n",
       "      <th>3</th>\n",
       "      <td>4</td>\n",
       "      <td>0.106058</td>\n",
       "      <td>0</td>\n",
       "      <td>1.200271e+05</td>\n",
       "    </tr>\n",
       "    <tr>\n",
       "      <th>4</th>\n",
       "      <td>5</td>\n",
       "      <td>0.074657</td>\n",
       "      <td>0</td>\n",
       "      <td>4.639285e+05</td>\n",
       "    </tr>\n",
       "    <tr>\n",
       "      <th>...</th>\n",
       "      <td>...</td>\n",
       "      <td>...</td>\n",
       "      <td>...</td>\n",
       "      <td>...</td>\n",
       "    </tr>\n",
       "    <tr>\n",
       "      <th>995</th>\n",
       "      <td>996</td>\n",
       "      <td>0.075342</td>\n",
       "      <td>0</td>\n",
       "      <td>4.556434e+03</td>\n",
       "    </tr>\n",
       "    <tr>\n",
       "      <th>996</th>\n",
       "      <td>997</td>\n",
       "      <td>0.076830</td>\n",
       "      <td>1</td>\n",
       "      <td>4.694585e+04</td>\n",
       "    </tr>\n",
       "    <tr>\n",
       "      <th>997</th>\n",
       "      <td>998</td>\n",
       "      <td>0.145549</td>\n",
       "      <td>0</td>\n",
       "      <td>3.949485e+04</td>\n",
       "    </tr>\n",
       "    <tr>\n",
       "      <th>998</th>\n",
       "      <td>999</td>\n",
       "      <td>0.119430</td>\n",
       "      <td>0</td>\n",
       "      <td>3.889183e+04</td>\n",
       "    </tr>\n",
       "    <tr>\n",
       "      <th>999</th>\n",
       "      <td>1000</td>\n",
       "      <td>0.162455</td>\n",
       "      <td>0</td>\n",
       "      <td>1.211157e+07</td>\n",
       "    </tr>\n",
       "  </tbody>\n",
       "</table>\n",
       "<p>1000 rows × 4 columns</p>\n",
       "</div>"
      ],
      "text/plain": [
       "     Frequency  Probability_of_event  Simulated_event  Possible_loss\n",
       "0            1              0.128540                0   3.147545e+06\n",
       "1            2              0.079846                0   1.259383e+04\n",
       "2            3              0.120144                0   2.396118e+07\n",
       "3            4              0.106058                0   1.200271e+05\n",
       "4            5              0.074657                0   4.639285e+05\n",
       "..         ...                   ...              ...            ...\n",
       "995        996              0.075342                0   4.556434e+03\n",
       "996        997              0.076830                1   4.694585e+04\n",
       "997        998              0.145549                0   3.949485e+04\n",
       "998        999              0.119430                0   3.889183e+04\n",
       "999       1000              0.162455                0   1.211157e+07\n",
       "\n",
       "[1000 rows x 4 columns]"
      ]
     },
     "execution_count": 12,
     "metadata": {},
     "output_type": "execute_result"
    }
   ],
   "source": [
    "# Display the results\n",
    "df"
   ]
  },
  {
   "cell_type": "markdown",
   "id": "ab4f279d",
   "metadata": {},
   "source": [
    "***\n",
    "### Calculate Simulated Loss\n",
    "***"
   ]
  },
  {
   "cell_type": "markdown",
   "id": "b1bf9457",
   "metadata": {},
   "source": [
    "Calculate simulated loss for each trial"
   ]
  },
  {
   "cell_type": "code",
   "execution_count": 13,
   "id": "0a53dea2",
   "metadata": {},
   "outputs": [],
   "source": [
    "df['Simulated_loss'] = df['Simulated_event'] * df['Possible_loss']"
   ]
  },
  {
   "cell_type": "markdown",
   "id": "8990200f",
   "metadata": {},
   "source": [
    "***\n",
    "### Logarithm Transformation\n",
    "***"
   ]
  },
  {
   "cell_type": "code",
   "execution_count": 14,
   "id": "f20eda37",
   "metadata": {},
   "outputs": [],
   "source": [
    "# Filter non-positive values instead of fallback\n",
    "df['Log_simulated_loss'] = df['Simulated_loss'].apply(lambda x: math.log10(x) if x > 0 else 0)"
   ]
  },
  {
   "cell_type": "code",
   "execution_count": 15,
   "id": "0e00a1cd",
   "metadata": {},
   "outputs": [
    {
     "data": {
      "text/html": [
       "<div>\n",
       "<style scoped>\n",
       "    .dataframe tbody tr th:only-of-type {\n",
       "        vertical-align: middle;\n",
       "    }\n",
       "\n",
       "    .dataframe tbody tr th {\n",
       "        vertical-align: top;\n",
       "    }\n",
       "\n",
       "    .dataframe thead th {\n",
       "        text-align: right;\n",
       "    }\n",
       "</style>\n",
       "<table border=\"1\" class=\"dataframe\">\n",
       "  <thead>\n",
       "    <tr style=\"text-align: right;\">\n",
       "      <th></th>\n",
       "      <th>Frequency</th>\n",
       "      <th>Probability_of_event</th>\n",
       "      <th>Simulated_event</th>\n",
       "      <th>Possible_loss</th>\n",
       "      <th>Simulated_loss</th>\n",
       "      <th>Log_simulated_loss</th>\n",
       "    </tr>\n",
       "  </thead>\n",
       "  <tbody>\n",
       "    <tr>\n",
       "      <th>0</th>\n",
       "      <td>1</td>\n",
       "      <td>0.128540</td>\n",
       "      <td>0</td>\n",
       "      <td>3.147545e+06</td>\n",
       "      <td>0.000000</td>\n",
       "      <td>0.000000</td>\n",
       "    </tr>\n",
       "    <tr>\n",
       "      <th>1</th>\n",
       "      <td>2</td>\n",
       "      <td>0.079846</td>\n",
       "      <td>0</td>\n",
       "      <td>1.259383e+04</td>\n",
       "      <td>0.000000</td>\n",
       "      <td>0.000000</td>\n",
       "    </tr>\n",
       "    <tr>\n",
       "      <th>2</th>\n",
       "      <td>3</td>\n",
       "      <td>0.120144</td>\n",
       "      <td>0</td>\n",
       "      <td>2.396118e+07</td>\n",
       "      <td>0.000000</td>\n",
       "      <td>0.000000</td>\n",
       "    </tr>\n",
       "    <tr>\n",
       "      <th>3</th>\n",
       "      <td>4</td>\n",
       "      <td>0.106058</td>\n",
       "      <td>0</td>\n",
       "      <td>1.200271e+05</td>\n",
       "      <td>0.000000</td>\n",
       "      <td>0.000000</td>\n",
       "    </tr>\n",
       "    <tr>\n",
       "      <th>4</th>\n",
       "      <td>5</td>\n",
       "      <td>0.074657</td>\n",
       "      <td>0</td>\n",
       "      <td>4.639285e+05</td>\n",
       "      <td>0.000000</td>\n",
       "      <td>0.000000</td>\n",
       "    </tr>\n",
       "    <tr>\n",
       "      <th>...</th>\n",
       "      <td>...</td>\n",
       "      <td>...</td>\n",
       "      <td>...</td>\n",
       "      <td>...</td>\n",
       "      <td>...</td>\n",
       "      <td>...</td>\n",
       "    </tr>\n",
       "    <tr>\n",
       "      <th>995</th>\n",
       "      <td>996</td>\n",
       "      <td>0.075342</td>\n",
       "      <td>0</td>\n",
       "      <td>4.556434e+03</td>\n",
       "      <td>0.000000</td>\n",
       "      <td>0.000000</td>\n",
       "    </tr>\n",
       "    <tr>\n",
       "      <th>996</th>\n",
       "      <td>997</td>\n",
       "      <td>0.076830</td>\n",
       "      <td>1</td>\n",
       "      <td>4.694585e+04</td>\n",
       "      <td>46945.853419</td>\n",
       "      <td>4.671597</td>\n",
       "    </tr>\n",
       "    <tr>\n",
       "      <th>997</th>\n",
       "      <td>998</td>\n",
       "      <td>0.145549</td>\n",
       "      <td>0</td>\n",
       "      <td>3.949485e+04</td>\n",
       "      <td>0.000000</td>\n",
       "      <td>0.000000</td>\n",
       "    </tr>\n",
       "    <tr>\n",
       "      <th>998</th>\n",
       "      <td>999</td>\n",
       "      <td>0.119430</td>\n",
       "      <td>0</td>\n",
       "      <td>3.889183e+04</td>\n",
       "      <td>0.000000</td>\n",
       "      <td>0.000000</td>\n",
       "    </tr>\n",
       "    <tr>\n",
       "      <th>999</th>\n",
       "      <td>1000</td>\n",
       "      <td>0.162455</td>\n",
       "      <td>0</td>\n",
       "      <td>1.211157e+07</td>\n",
       "      <td>0.000000</td>\n",
       "      <td>0.000000</td>\n",
       "    </tr>\n",
       "  </tbody>\n",
       "</table>\n",
       "<p>1000 rows × 6 columns</p>\n",
       "</div>"
      ],
      "text/plain": [
       "     Frequency  Probability_of_event  Simulated_event  Possible_loss  \\\n",
       "0            1              0.128540                0   3.147545e+06   \n",
       "1            2              0.079846                0   1.259383e+04   \n",
       "2            3              0.120144                0   2.396118e+07   \n",
       "3            4              0.106058                0   1.200271e+05   \n",
       "4            5              0.074657                0   4.639285e+05   \n",
       "..         ...                   ...              ...            ...   \n",
       "995        996              0.075342                0   4.556434e+03   \n",
       "996        997              0.076830                1   4.694585e+04   \n",
       "997        998              0.145549                0   3.949485e+04   \n",
       "998        999              0.119430                0   3.889183e+04   \n",
       "999       1000              0.162455                0   1.211157e+07   \n",
       "\n",
       "     Simulated_loss  Log_simulated_loss  \n",
       "0          0.000000            0.000000  \n",
       "1          0.000000            0.000000  \n",
       "2          0.000000            0.000000  \n",
       "3          0.000000            0.000000  \n",
       "4          0.000000            0.000000  \n",
       "..              ...                 ...  \n",
       "995        0.000000            0.000000  \n",
       "996    46945.853419            4.671597  \n",
       "997        0.000000            0.000000  \n",
       "998        0.000000            0.000000  \n",
       "999        0.000000            0.000000  \n",
       "\n",
       "[1000 rows x 6 columns]"
      ]
     },
     "execution_count": 15,
     "metadata": {},
     "output_type": "execute_result"
    }
   ],
   "source": [
    "# Display the results\n",
    "df"
   ]
  },
  {
   "cell_type": "markdown",
   "id": "804d3cc5",
   "metadata": {},
   "source": [
    "***\n",
    "### Visualization\n",
    "***"
   ]
  },
  {
   "cell_type": "code",
   "execution_count": 17,
   "id": "6d667ad3",
   "metadata": {},
   "outputs": [
    {
     "data": {
      "image/png": "[encoded data removed]",
      "text/plain": [
       "<Figure size 576x288 with 1 Axes>"
      ]
     },
     "metadata": {
      "needs_background": "light"
     },
     "output_type": "display_data"
    }
   ],
   "source": [
    "# Get counts and percentages\n",
    "counts = df['Simulated_event'].value_counts()\n",
    "percentages = counts / len(df) * 100\n",
    "\n",
    "# Create a new DataFrame for the barplot\n",
    "bar_data = pd.DataFrame({\n",
    "    'Simulated_event': counts.index,\n",
    "    'Percentage': percentages.values\n",
    "})\n",
    "\n",
    "# Plot the barplot\n",
    "fig, ax = plt.subplots(figsize=(8, 4))\n",
    "sns.barplot(data=bar_data, x='Simulated_event', y='Percentage', palette=['darkred', 'lightblue'])\n",
    "plt.xlabel('Simulated Event')\n",
    "plt.ylabel('Percentage (%)')\n",
    "plt.title('Simulated years without/with events', size=12, color='#4f4e4e')\n",
    "plt.xticks(size=8, color='#4f4e4e')\n",
    "plt.yticks(size=8, color='#4f4e4e')\n",
    "sns.despine(left=True, bottom=True)\n",
    "\n",
    "# Add text labels\n",
    "for i, pct in enumerate(percentages):\n",
    "    plt.text(x=i, y=pct + 1, s=f\"{pct:.2f}%\", ha='center', va='bottom', fontsize=8, color='black')\n",
    "plt.show()\n"
   ]
  },
  {
   "cell_type": "code",
   "execution_count": 18,
   "id": "6a25e386",
   "metadata": {},
   "outputs": [],
   "source": [
    "# Filter out NaN and infinite values from actual_losses\n",
    "actual_losses = [x for x in df['Log_simulated_loss'] if x > 0]# Remove invalid data\n",
    "actual_losses = pd.Series(actual_losses).replace([np.inf, -np.inf], np.nan).dropna()"
   ]
  },
  {
   "cell_type": "code",
   "execution_count": 20,
   "id": "38dd4890",
   "metadata": {},
   "outputs": [
    {
     "data": {
      "image/png": "[encoded data removed]",
      "text/plain": [
       "<Figure size 1440x720 with 1 Axes>"
      ]
     },
     "metadata": {
      "needs_background": "light"
     },
     "output_type": "display_data"
    }
   ],
   "source": [
    "# Updated histogram using sns.histplot\n",
    "plt.figure(figsize=(20, 10))\n",
    "sns.histplot(actual_losses, bins=30, color='darkred', kde=True, edgecolor=\"none\")  \n",
    "plt.xlabel('Log Simulated Losses')\n",
    "plt.ylabel('Frequency')\n",
    "plt.title('Simulated Losses [$ MM]', size=12, color='#4f4e4e')\n",
    "plt.xticks(size=8, color='#4f4e4e')\n",
    "plt.yticks(size=8, color='#4f4e4e')\n",
    "sns.despine(left=True, bottom=True)\n",
    "plt.show()"
   ]
  },
  {
   "cell_type": "code",
   "execution_count": null,
   "id": "183dad28",
   "metadata": {},
   "outputs": [],
   "source": []
  },
  {
   "cell_type": "code",
   "execution_count": null,
   "id": "b2193e56",
   "metadata": {},
   "outputs": [],
   "source": []
  }
 ],
 "metadata": {
  "kernelspec": {
   "display_name": "Python 3 (ipykernel)",
   "language": "python",
   "name": "python3"
  },
  "language_info": {
   "codemirror_mode": {
    "name": "ipython",
    "version": 3
   },
   "file_extension": ".py",
   "mimetype": "text/x-python",
   "name": "python",
   "nbconvert_exporter": "python",
   "pygments_lexer": "ipython3",
   "version": "3.9.12"
  }
 },
 "nbformat": 4,
 "nbformat_minor": 5
}
