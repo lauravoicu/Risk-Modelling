{
 "cells": [
  {
   "cell_type": "code",
   "execution_count": 1,
   "id": "5a8e7be2",
   "metadata": {},
   "outputs": [],
   "source": [
    "import numpy as np\n",
    "import pandas as pd\n",
    "\n",
    "import matplotlib.pyplot as plt\n",
    "import seaborn as sns"
   ]
  },
  {
   "cell_type": "code",
   "execution_count": 2,
   "id": "7e86ff20",
   "metadata": {},
   "outputs": [],
   "source": [
    "import warnings\n",
    "warnings.simplefilter(action='ignore', category=FutureWarning)"
   ]
  },
  {
   "cell_type": "code",
   "execution_count": 3,
   "id": "c163f03e",
   "metadata": {},
   "outputs": [],
   "source": [
    "# Parameters\n",
    "simulations = 100000  # Number of simulations\n",
    "years = 10               # Horizon\n",
    "lambda_poisson = 0.138   # From IRIS report, loss likelihood (Poisson)\n",
    "meanlog_impact = 12.55949 # From IRIS report, mean log impact (Log-Normal)\n",
    "sdlog_impact = 3.068723   # From IRIS report, std log impact (Log-Normal)\n",
    "discount_rate = 0.1     # Discount rate for NRV (Net Risk Value) calculations\n",
    "control_cost = 50000     # Fixed mitigation cost of $50,000 per year when action is taken."
   ]
  },
  {
   "cell_type": "markdown",
   "id": "95db2d8e",
   "metadata": {},
   "source": [
    "Simulates annual losses (projected_losses):\n",
    "- Loss Event Frequency (lef_counts): loss events simulated as a Poisson process.\n",
    "- Loss Magnitude (lm_impacts): Log-normal distribution reflects the heavy-tailed nature of impact data."
   ]
  },
  {
   "cell_type": "code",
   "execution_count": 4,
   "id": "34600719",
   "metadata": {},
   "outputs": [],
   "source": [
    "# Simulate losses \n",
    "lef_counts = np.random.poisson(lam=lambda_poisson, size=(simulations, years)) \n",
    "lm_impacts = np.random.lognormal(mean=meanlog_impact, sigma=sdlog_impact, size=(simulations, years))\n",
    "projected_losses = lef_counts * lm_impacts"
   ]
  },
  {
   "cell_type": "code",
   "execution_count": 5,
   "id": "eb08b7a8",
   "metadata": {},
   "outputs": [],
   "source": [
    "# Calculate mean projected losses over the horizon, representing the long-term average cost if no mitigation is applied.\n",
    "# Oversimplification for comparison\n",
    "expected_losses = np.mean(projected_losses, axis=1)"
   ]
  },
  {
   "cell_type": "markdown",
   "id": "21f978f6",
   "metadata": {},
   "source": [
    "***\n",
    "### Probabilistic Deciders\n",
    "**Decision Rule:** Mitigate if expected loss exceeds mitigation cost.\n",
    "***"
   ]
  },
  {
   "cell_type": "code",
   "execution_count": 6,
   "id": "d37fbea9",
   "metadata": {},
   "outputs": [],
   "source": [
    "# Probabilistic total costs\n",
    "probabilistic_deciders = expected_losses > control_cost\n",
    "probabilistic_deciders_costs = np.where(\n",
    "    probabilistic_deciders.reshape(-1, 1),  # Decision to mitigate based on expected losses\n",
    "    control_cost,                            # Cost of mitigation\n",
    "    projected_losses                            # Cost of no mitigation\n",
    ")"
   ]
  },
  {
   "cell_type": "markdown",
   "id": "dc40c34e",
   "metadata": {},
   "source": [
    "***\n",
    "### Gut Feelers\n",
    "**Decision Rule:** \n",
    "- High Likelihood/Impact Mitigation: Always mitigate for cases in the 90th percentile or higher for both likelihood and impact.\n",
    "- Medium Likelihood/Impact: Randomly mitigate cases in the 50th-90th percentile range.\n",
    "- Low Likelihood/Impact: Ignore events below the 50th percentile threshold.\n",
    "***"
   ]
  },
  {
   "cell_type": "code",
   "execution_count": 7,
   "id": "d1309e78",
   "metadata": {},
   "outputs": [],
   "source": [
    "# Define thresholds for high likelihood and high impact\n",
    "high_likelihood_threshold = np.percentile(lef_counts, 90)  # Top 10% likelihood\n",
    "medium_likelihood_threshold = np.percentile(lef_counts, 50)  # Top 50% likelihood\n",
    "\n",
    "high_impact_threshold = np.percentile(lm_impacts, 90)  # Top 10% impact\n",
    "medium_impact_threshold = np.percentile(lm_impacts, 50)  # Top 50% impact\n",
    "\n",
    "# Heuristic-based decisions: Mitigate if both Likelihood and Impact are very high\n",
    "gut_feelers = np.zeros_like(lef_counts, dtype=bool)\n",
    "\n",
    "# Always mitigate for very high likelihood and impact (above 90th percentile)\n",
    "very_high_criteria = (lef_counts > high_likelihood_threshold) & (lm_impacts > high_impact_threshold)\n",
    "gut_feelers |= very_high_criteria\n",
    "\n",
    "# Randomly choose for medium likelihood/impact (50th to 90th percentile)\n",
    "medium_criteria = (\n",
    "    (lef_counts > medium_likelihood_threshold) & (lef_counts <= high_likelihood_threshold) &\n",
    "    (lm_impacts > medium_impact_threshold) & (lm_impacts <= high_impact_threshold)\n",
    ")\n",
    "random_choices = np.random.rand(*medium_criteria.shape) < 0.5  # Coin flip\n",
    "gut_feelers |= (medium_criteria & random_choices)\n",
    "\n",
    "# Always ignore below 50th percentile\n",
    "low_criteria = (lef_counts <= medium_likelihood_threshold) | (lm_impacts <= medium_impact_threshold)\n",
    "gut_feelers &= ~low_criteria"
   ]
  },
  {
   "cell_type": "code",
   "execution_count": 8,
   "id": "7ba77334",
   "metadata": {},
   "outputs": [],
   "source": [
    "# Heuristic-based decisions\n",
    "gut_feelers_costs = np.where(\n",
    "    gut_feelers,                   # Decision to mitigate based on heuristic thresholds\n",
    "    control_cost,                            # Cost of mitigation\n",
    "    projected_losses                            # Cost of no mitigation\n",
    ")"
   ]
  },
  {
   "cell_type": "code",
   "execution_count": 9,
   "id": "8505f599",
   "metadata": {},
   "outputs": [],
   "source": [
    "probabilistic_deciders_costs = probabilistic_deciders_costs.reshape(simulations, years)\n",
    "gut_feelers_costs = gut_feelers_costs.reshape(simulations, years)"
   ]
  },
  {
   "cell_type": "markdown",
   "id": "e92960fa",
   "metadata": {},
   "source": [
    "***\n",
    "### Cost Discounting with DCF:\n",
    "\n",
    "**Discounted Costs:** Future costs are discounted to present value using a 10% rate.\n",
    "\n",
    "Discounted Cash Flow (DCF) is a financial valuation method used to estimate the value of an investment, asset, or project based on its expected future cash flows. The method involves discounting these future cash flows back to their present value using a discount rate, which accounts for the time value of money and risk.\n",
    "\n",
    "Key Components of DCF:\n",
    "- Future Cash Flows: The expected earnings or savings generated by the investment or project over a specified period.\n",
    "- Discount Rate: Reflects the cost of capital, risk, or the opportunity cost of investing resources elsewhere. \n",
    "- Present Value: Future cash flows are discounted to reflect their value today, acknowledging that money now is worth more than the same amount in the future due to earning potential and inflation.\n",
    "\n",
    "For our context, we'll adapt DCF to analyze the long-term financial impact of risk mitigation strategies. It helps in understanding the cost-effectiveness of mitigations by translating future losses or savings into today's monetary terms."
   ]
  },
  {
   "cell_type": "code",
   "execution_count": 10,
   "id": "e8c5700c",
   "metadata": {},
   "outputs": [],
   "source": [
    "# Discount future costs\n",
    "discount_factors = np.array([(1 + discount_rate) ** year for year in range(years)]).reshape(1, -1)\n",
    "\n",
    "# Calculate discounted costs\n",
    "discounted_probabilistic_deciders = np.sum(probabilistic_deciders_costs / discount_factors, axis=1)\n",
    "discounted_gut_feelers = np.sum(gut_feelers_costs / discount_factors, axis=1)"
   ]
  },
  {
   "cell_type": "code",
   "execution_count": 11,
   "id": "2fb3f6d2",
   "metadata": {},
   "outputs": [
    {
     "name": "stdout",
     "output_type": "stream",
     "text": [
      "Discounted Probabilistic Deciders Costs: [   466.66996103 337951.19081376      0.              0.\n",
      " 263503.74142875]\n",
      "Discounted Gut Feelers Costs: [4.66669961e+02 2.56285627e+07 0.00000000e+00 0.00000000e+00\n",
      " 4.54545455e+04]\n"
     ]
    }
   ],
   "source": [
    "# Verify\n",
    "print(\"Discounted Probabilistic Deciders Costs:\", discounted_probabilistic_deciders[:5])\n",
    "print(\"Discounted Gut Feelers Costs:\", discounted_gut_feelers[:5])"
   ]
  },
  {
   "cell_type": "markdown",
   "id": "5123877b",
   "metadata": {},
   "source": [
    "These numbers represent the discounted costs for both the Probabilistic Deciders and Gut Feelers strategies, based on the simulated scenarios. \n",
    "\n",
    "- Variability in Costs: The costs across simulations are highly variable, reflecting the randomness of events (frequency and impact). Probabilistic Deciders show more stable costs compared to the extreme outliers in Gut Feelers (e.g., $25M in the second simulation).\n",
    "- Effectiveness of Strategies: Probabilistic Deciders seem to mitigate risks effectively in high-loss scenarios (e.g., Simulation 2). Gut Feelers are inconsistent; while they sometimes incur lower costs (e.g., Simulation 5), they are vulnerable to outlier losses due to missed mitigations.\n",
    "\n",
    "So far, this seems to support the idea that Probabilistic Deciders consistently manage risk better by aligning decisions with expected losses, whereas Gut Feelers are prone to extreme variations due to their heuristic approach."
   ]
  },
  {
   "cell_type": "code",
   "execution_count": 12,
   "id": "6d5c9c83",
   "metadata": {},
   "outputs": [],
   "source": [
    "# Compare mean NRV (Net Risk Value)\n",
    "mean_probabilistic_deciders_nrv = np.mean(discounted_probabilistic_deciders)\n",
    "mean_gut_feelers_nrv = np.mean(discounted_gut_feelers)"
   ]
  },
  {
   "cell_type": "code",
   "execution_count": 13,
   "id": "494000fe",
   "metadata": {},
   "outputs": [
    {
     "name": "stdout",
     "output_type": "stream",
     "text": [
      "Probabilistic Deciders NRV: $177785.69\n",
      "Gut Feelers NRV: $24659467.32\n"
     ]
    }
   ],
   "source": [
    "print(f\"Probabilistic Deciders NRV: ${mean_probabilistic_deciders_nrv:.2f}\")\n",
    "print(f\"Gut Feelers NRV: ${mean_gut_feelers_nrv:.2f}\")"
   ]
  },
  {
   "cell_type": "markdown",
   "id": "30fa026b",
   "metadata": {},
   "source": [
    "**Lower NRV for Probabilistic Deciders** means that this strategy is more cost-effective and robust over many simulations."
   ]
  },
  {
   "cell_type": "code",
   "execution_count": 14,
   "id": "11ea3917",
   "metadata": {},
   "outputs": [
    {
     "data": {
      "image/png": "[encoded data removed]",
      "text/plain": [
       "<Figure size 432x288 with 1 Axes>"
      ]
     },
     "metadata": {
      "needs_background": "light"
     },
     "output_type": "display_data"
    }
   ],
   "source": [
    "# Plot NRV distributions\n",
    "plt.hist(discounted_probabilistic_deciders, bins=50, alpha=0.6, label=\"Probabilistic Deciders NRV\")\n",
    "plt.hist(discounted_gut_feelers, bins=50, alpha=0.6, label=\"Gut Feelers NRV\")\n",
    "# Restrict x-axis range for better visualization\n",
    "plt.xlim(0, np.percentile(discounted_probabilistic_deciders, 99.99))  # Show up to 99.99th percentile\n",
    "plt.xlabel(\"Net Risk Value\")\n",
    "plt.ylabel(\"Frequency\")\n",
    "plt.legend()\n",
    "plt.show()"
   ]
  },
  {
   "cell_type": "code",
   "execution_count": 15,
   "id": "edf443b3",
   "metadata": {},
   "outputs": [
    {
     "data": {
      "image/png": "[encoded data removed]",
      "text/plain": [
       "<Figure size 432x288 with 1 Axes>"
      ]
     },
     "metadata": {
      "needs_background": "light"
     },
     "output_type": "display_data"
    }
   ],
   "source": [
    "# Loss Exceedance Curves\n",
    "plt.hist(discounted_probabilistic_deciders, bins=100, cumulative=-1, density=True, alpha=0.6, label=\"Probabilistic Deciders\")\n",
    "plt.hist(discounted_gut_feelers, bins=100, cumulative=-1, density=True, alpha=0.6, label=\"Gut Feelers\")\n",
    "# Restrict x-axis range for better visualization\n",
    "plt.xlim(0, np.percentile(discounted_probabilistic_deciders, 99.99))  # Show up to 99.99th percentile\n",
    "plt.xlabel(\"NRV\")\n",
    "plt.ylabel(\"Probability Exceedance\")\n",
    "plt.legend()\n",
    "plt.show()"
   ]
  },
  {
   "cell_type": "code",
   "execution_count": 16,
   "id": "a0d9c501",
   "metadata": {},
   "outputs": [],
   "source": [
    "# Calculate cumulative discounted costs over time\n",
    "cumulative_probabilistic_deciders = np.cumsum(probabilistic_deciders_costs / discount_factors, axis=1)\n",
    "cumulative_gut_feelers = np.cumsum(gut_feelers_costs / discount_factors, axis=1)\n",
    "\n",
    "# Calculate mean risk reduction across all simulations\n",
    "mean_cumulative_probabilistic_deciders = np.mean(cumulative_probabilistic_deciders, axis=0)\n",
    "mean_cumulative_gut_feelers = np.mean(cumulative_gut_feelers, axis=0)"
   ]
  },
  {
   "cell_type": "code",
   "execution_count": 17,
   "id": "e038d599",
   "metadata": {},
   "outputs": [
    {
     "data": {
      "image/png": "[encoded data removed]",
      "text/plain": [
       "<Figure size 432x288 with 1 Axes>"
      ]
     },
     "metadata": {
      "needs_background": "light"
     },
     "output_type": "display_data"
    }
   ],
   "source": [
    "# Plot risk reduction over time\n",
    "plt.plot(range(1, years + 1), mean_cumulative_probabilistic_deciders, label=\"Probabilistic Deciders\")\n",
    "plt.plot(range(1, years + 1), mean_cumulative_gut_feelers, label=\"Gut Feelers\", linestyle=\"--\")\n",
    "plt.xlabel(\"Years\")\n",
    "plt.ylabel(\"Cumulative Discounted Cost\")\n",
    "plt.title(\"Cost of Risk Reduction Over Time: Probabilistic Deciders vs Gut Feelers\")\n",
    "plt.legend()\n",
    "plt.show()"
   ]
  },
  {
   "cell_type": "markdown",
   "id": "a31eb1d0",
   "metadata": {},
   "source": [
    "The gap between the two lines grows larger as time progresses, indicating that the inefficiency of Gut Feelers compounds over the 10 years.\n",
    "\n",
    "In the long run, the Probabilistic Deciders have an advantage and maintain low cumulative costs, whereas Gut Feelers accumulate significantly higher costs due to the inconsistent and less-informed decisions.\n",
    "\n",
    "Probabilistic Decision-Making is not only more sustainable, but also less costly over time."
   ]
  },
  {
   "cell_type": "code",
   "execution_count": 18,
   "id": "50aafd3b",
   "metadata": {},
   "outputs": [],
   "source": [
    "# Calculate baseline losses (no mitigation)\n",
    "baseline_losses = np.cumsum(projected_losses, axis=1)  # Cumulative losses without mitigation"
   ]
  },
  {
   "cell_type": "code",
   "execution_count": 19,
   "id": "9506fa55",
   "metadata": {},
   "outputs": [],
   "source": [
    "# Calculate mitigated losses for probabilistic deciders\n",
    "mitigated_probabilistic_deciders_losses = np.where(\n",
    "    probabilistic_deciders.reshape(-1, 1),  # Mitigate if expected losses exceed control cost\n",
    "    0.2 * projected_losses,  # Mitigated loss (assuming 80%  prevention)\n",
    "    projected_losses  # No mitigation\n",
    ")"
   ]
  },
  {
   "cell_type": "code",
   "execution_count": 20,
   "id": "7f7dc5e0",
   "metadata": {},
   "outputs": [],
   "source": [
    "cumulative_mitigated_probabilistic_deciders = np.cumsum(mitigated_probabilistic_deciders_losses, axis=1)"
   ]
  },
  {
   "cell_type": "code",
   "execution_count": 21,
   "id": "5e535777",
   "metadata": {},
   "outputs": [],
   "source": [
    "# Calculate mitigated losses for gut feelers\n",
    "mitigated_gut_feelers_losses = np.where(\n",
    "    gut_feelers,  # Mitigate if both likelihood and impact are high\n",
    "    0.2 * projected_losses,  # Mitigated loss\n",
    "    projected_losses  # No mitigation\n",
    ")"
   ]
  },
  {
   "cell_type": "code",
   "execution_count": 22,
   "id": "5c015614",
   "metadata": {},
   "outputs": [],
   "source": [
    "cumulative_mitigated_gut_feelers = np.cumsum(mitigated_gut_feelers_losses, axis=1)"
   ]
  },
  {
   "cell_type": "code",
   "execution_count": 23,
   "id": "bc58d327",
   "metadata": {},
   "outputs": [],
   "source": [
    "# Calculate risk reduction for each strategy\n",
    "risk_reduction_probabilistic_deciders = baseline_losses - cumulative_mitigated_probabilistic_deciders\n",
    "risk_reduction_gut_feelers = baseline_losses - cumulative_mitigated_gut_feelers"
   ]
  },
  {
   "cell_type": "code",
   "execution_count": 24,
   "id": "9e18754c",
   "metadata": {},
   "outputs": [],
   "source": [
    "# Average risk reduction over simulations\n",
    "mean_risk_reduction_probabilistic_deciders = np.mean(risk_reduction_probabilistic_deciders, axis=0)\n",
    "mean_risk_reduction_gut_feelers = np.mean(risk_reduction_gut_feelers, axis=0)"
   ]
  },
  {
   "cell_type": "code",
   "execution_count": 25,
   "id": "2730910b",
   "metadata": {},
   "outputs": [
    {
     "data": {
      "image/png": "[encoded data removed]",
      "text/plain": [
       "<Figure size 432x288 with 1 Axes>"
      ]
     },
     "metadata": {
      "needs_background": "light"
     },
     "output_type": "display_data"
    }
   ],
   "source": [
    "# Plot risk reduction over time\n",
    "plt.plot(range(1, years + 1), mean_risk_reduction_probabilistic_deciders, label=\"Probabilistic Deciders\")\n",
    "plt.plot(range(1, years + 1), mean_risk_reduction_gut_feelers, label=\"Gut Feelers\", linestyle=\"--\")\n",
    "plt.xlabel(\"Years\")\n",
    "plt.ylabel(\"Cumulative Risk Reduction\")\n",
    "plt.title(\"Risk Reduction Over Time: Probabilistic Deciders vs Gut Feelers\")\n",
    "plt.legend()\n",
    "plt.show()"
   ]
  },
  {
   "cell_type": "code",
   "execution_count": 26,
   "id": "69b33901",
   "metadata": {},
   "outputs": [
    {
     "name": "stdout",
     "output_type": "stream",
     "text": [
      "Probabilistic mitigations: 44547\n",
      "Gut Feelers mitigations: 24875\n",
      "Overlapping mitigations: 22825\n"
     ]
    }
   ],
   "source": [
    "print(f\"Probabilistic mitigations: {np.sum(probabilistic_deciders)}\")\n",
    "print(f\"Gut Feelers mitigations: {np.sum(gut_feelers)}\")\n",
    "# Reshape probabilistic_deciders to match gut_feelers\n",
    "probabilistic_deciders_reshaped = probabilistic_deciders.reshape(-1, 1)\n",
    "\n",
    "# Calculate the overlap\n",
    "overlapping_mitigations = np.sum(probabilistic_deciders_reshaped & gut_feelers)\n",
    "\n",
    "print(f\"Overlapping mitigations: {overlapping_mitigations}\")"
   ]
  },
  {
   "cell_type": "markdown",
   "id": "ce56d518",
   "metadata": {},
   "source": [
    "There are of course both pros and cons with each approach:\n",
    "- Risk of over-mitigation (Probabilistic Deciders): By mitigating more frequently, Probabilistic Deciders may have higher mitigation costs for risks that Gut Feelers would deem unnecessary.\n",
    "- Risk of under-mitigation (Gut Feelers): By mitigating less frequently, Gut Feelers run the risk of leaving important risks unmitigated, which could lead to higher losses in unaddressed scenarios."
   ]
  },
  {
   "cell_type": "code",
   "execution_count": 27,
   "id": "778d49fd",
   "metadata": {},
   "outputs": [
    {
     "name": "stdout",
     "output_type": "stream",
     "text": [
      "Percentage of overlapping decisions: 57.53%\n"
     ]
    }
   ],
   "source": [
    "# Optionally calculate and display the percentage overlap\n",
    "# Ensure probabilistic_deciders and gut_feelers have the same shape\n",
    "probabilistic_deciders = probabilistic_deciders.reshape(-1, 1)  # Reshape to match the gut_feelers dimensions\n",
    "gut_feelers = gut_feelers.astype(bool)  # Ensure boolean type\n",
    "# Compare the arrays element-wise\n",
    "overlap_decisions = (probabilistic_deciders == gut_feelers)\n",
    "overlap_percentage = np.mean(overlap_decisions) * 100\n",
    "print(f\"Percentage of overlapping decisions: {overlap_percentage:.2f}%\")"
   ]
  },
  {
   "cell_type": "code",
   "execution_count": 28,
   "id": "fd2cbbb6",
   "metadata": {},
   "outputs": [
    {
     "data": {
      "image/png": "[encoded data removed]",
      "text/plain": [
       "<Figure size 432x288 with 1 Axes>"
      ]
     },
     "metadata": {
      "needs_background": "light"
     },
     "output_type": "display_data"
    }
   ],
   "source": [
    "final_risk_reduction_probabilistic = risk_reduction_probabilistic_deciders[:, -1]\n",
    "final_risk_reduction_gut_feelers = risk_reduction_gut_feelers[:, -1]\n",
    "\n",
    "plt.boxplot(\n",
    "    [final_risk_reduction_probabilistic, final_risk_reduction_gut_feelers],\n",
    "    labels=[\"Probabilistic Deciders\", \"Gut Feelers\"],\n",
    "    patch_artist=True,\n",
    ")\n",
    "plt.ylabel(\"Final Cumulative Risk Reduction\")\n",
    "plt.title(\"Final Risk Reduction: Probabilistic Deciders vs Gut Feelers\")\n",
    "plt.show()"
   ]
  },
  {
   "cell_type": "code",
   "execution_count": 29,
   "id": "12ae6986",
   "metadata": {},
   "outputs": [
    {
     "name": "stdout",
     "output_type": "stream",
     "text": [
      "Probabilistic deciders outperformed gut feelers in 37.71% of simulations.\n"
     ]
    }
   ],
   "source": [
    "# Compare final risk reduction across all simulations\n",
    "better_performance = final_risk_reduction_probabilistic > final_risk_reduction_gut_feelers\n",
    "percentage_better = np.mean(better_performance) * 100\n",
    "\n",
    "print(f\"Probabilistic deciders outperformed gut feelers in {percentage_better:.2f}% of simulations.\")"
   ]
  },
  {
   "cell_type": "code",
   "execution_count": 30,
   "id": "21ac6305",
   "metadata": {},
   "outputs": [
    {
     "name": "stdout",
     "output_type": "stream",
     "text": [
      "Mean Risk Reduction (Probabilistic Deciders): 35957019.39\n",
      "Mean Risk Reduction (Gut Feelers): 7756898.49\n",
      "Difference in Means: 28200120.90\n"
     ]
    }
   ],
   "source": [
    "mean_probabilistic = np.mean(final_risk_reduction_probabilistic)\n",
    "mean_gut_feelers = np.mean(final_risk_reduction_gut_feelers)\n",
    "\n",
    "std_probabilistic = np.std(final_risk_reduction_probabilistic)\n",
    "std_gut_feelers = np.std(final_risk_reduction_gut_feelers)\n",
    "\n",
    "print(f\"Mean Risk Reduction (Probabilistic Deciders): {mean_probabilistic:.2f}\")\n",
    "print(f\"Mean Risk Reduction (Gut Feelers): {mean_gut_feelers:.2f}\")\n",
    "print(f\"Difference in Means: {mean_probabilistic - mean_gut_feelers:.2f}\")"
   ]
  },
  {
   "cell_type": "code",
   "execution_count": 31,
   "id": "6a097e28",
   "metadata": {},
   "outputs": [],
   "source": [
    "# from scipy.stats import ttest_ind\n",
    "\n",
    "# t_stat, p_value = ttest_ind(final_risk_reduction_probabilistic, final_risk_reduction_gut_feelers)\n",
    "# print(f\"T-statistic: {t_stat:.2f}, P-value: {p_value:.5f}\")\n",
    "# if p_value < 0.05:\n",
    "#     print(\"The difference in risk reduction is statistically significant.\")\n",
    "# else:\n",
    "#     print(\"No statistically significant difference in risk reduction.\")"
   ]
  },
  {
   "cell_type": "code",
   "execution_count": null,
   "id": "b158ef2c",
   "metadata": {},
   "outputs": [],
   "source": []
  }
 ],
 "metadata": {
  "kernelspec": {
   "display_name": "Python 3 (ipykernel)",
   "language": "python",
   "name": "python3"
  },
  "language_info": {
   "codemirror_mode": {
    "name": "ipython",
    "version": 3
   },
   "file_extension": ".py",
   "mimetype": "text/x-python",
   "name": "python",
   "nbconvert_exporter": "python",
   "pygments_lexer": "ipython3",
   "version": "3.9.12"
  }
 },
 "nbformat": 4,
 "nbformat_minor": 5
}
