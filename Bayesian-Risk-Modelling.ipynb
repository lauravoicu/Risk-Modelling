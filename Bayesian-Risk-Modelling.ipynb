{
 "cells": [
  {
   "cell_type": "markdown",
   "id": "15c64d0b",
   "metadata": {},
   "source": [
    "<img src=\"img/logo.png\"  />"
   ]
  },
  {
   "cell_type": "markdown",
   "id": "64534ea2",
   "metadata": {},
   "source": [
    "# Bayesian Risk Modelling"
   ]
  },
  {
   "cell_type": "markdown",
   "id": "62378f55",
   "metadata": {},
   "source": [
    "This notebook defines a probabilistic model using PyMC3, with a Poisson distribution representing the number of events per year, where the mean (μ) is set to our initial minimum probability of attack per year. The model is then sampled using the Metropolis algorithm, and the posterior distribution is visualized using a posterior plot."
   ]
  },
  {
   "cell_type": "code",
   "execution_count": 1,
   "id": "63b3d400",
   "metadata": {},
   "outputs": [],
   "source": [
    "import numpy as np\n",
    "import pandas as pd\n",
    "\n",
    "from scipy import stats\n",
    "from statistics import NormalDist\n",
    "\n",
    "from sklearn.preprocessing import scale\n",
    "import math\n",
    "import random\n",
    "\n",
    "import matplotlib.pyplot as plt\n",
    "import seaborn as sns"
   ]
  },
  {
   "cell_type": "code",
   "execution_count": 2,
   "id": "e18ada92",
   "metadata": {},
   "outputs": [],
   "source": [
    "import warnings\n",
    "warnings.simplefilter(action='ignore', category=FutureWarning)"
   ]
  },
  {
   "cell_type": "code",
   "execution_count": 3,
   "id": "a78f7985",
   "metadata": {},
   "outputs": [],
   "source": [
    "import pymc3 as pm\n",
    "import arviz as az"
   ]
  },
  {
   "cell_type": "code",
   "execution_count": 4,
   "id": "b5bcdafc",
   "metadata": {},
   "outputs": [],
   "source": [
    "# Define the minimum and maximum values for probability of event\n",
    "MIN = .07\n",
    "MAX = .17\n",
    "# Define the log loss mean and standard deviation\n",
    "LOG_MEAN = 12.55\n",
    "LOG_STD = 3.06"
   ]
  },
  {
   "cell_type": "code",
   "execution_count": 5,
   "id": "8fb5882b",
   "metadata": {},
   "outputs": [],
   "source": [
    "# Define the number of trials\n",
    "NUM_SAMPLES = 1000\n",
    "CONFIDENCE_INTERVAL = .95"
   ]
  },
  {
   "cell_type": "code",
   "execution_count": 6,
   "id": "dc1d3900",
   "metadata": {},
   "outputs": [],
   "source": [
    "# Define the uniform distribution bounds probability\n",
    "lower_bound = MIN\n",
    "upper_bound = MAX"
   ]
  },
  {
   "cell_type": "code",
   "execution_count": 7,
   "id": "e036c7c5",
   "metadata": {},
   "outputs": [],
   "source": [
    "# Define the log-normal distribution parameters\n",
    "MU = np.log(LOG_MEAN)\n",
    "SIGMA = np.log(LOG_STD)"
   ]
  },
  {
   "cell_type": "code",
   "execution_count": 8,
   "id": "48541a9d",
   "metadata": {},
   "outputs": [],
   "source": [
    "# Define the Poisson distribution with mean mu=MIN\n",
    "with pm.Model() as freq_model:\n",
    "    events_per_year = pm.Poisson('events_per_year', mu=MIN)"
   ]
  },
  {
   "cell_type": "code",
   "execution_count": 9,
   "id": "cce30b45",
   "metadata": {},
   "outputs": [
    {
     "name": "stderr",
     "output_type": "stream",
     "text": [
      "Multiprocess sampling (4 chains in 4 jobs)\n",
      "Metropolis: [events_per_year]\n"
     ]
    },
    {
     "data": {
      "text/html": [
       "\n",
       "<style>\n",
       "    /* Turns off some styling */\n",
       "    progress {\n",
       "        /* gets rid of default border in Firefox and Opera. */\n",
       "        border: none;\n",
       "        /* Needs to be in here for Safari polyfill so background images work as expected. */\n",
       "        background-size: auto;\n",
       "    }\n",
       "    progress:not([value]), progress:not([value])::-webkit-progress-bar {\n",
       "        background: repeating-linear-gradient(45deg, #7e7e7e, #7e7e7e 10px, #5c5c5c 10px, #5c5c5c 20px);\n",
       "    }\n",
       "    .progress-bar-interrupted, .progress-bar-interrupted::-webkit-progress-bar {\n",
       "        background: #F44336;\n",
       "    }\n",
       "</style>\n"
      ],
      "text/plain": [
       "<IPython.core.display.HTML object>"
      ]
     },
     "metadata": {},
     "output_type": "display_data"
    },
    {
     "data": {
      "text/html": [
       "\n",
       "    <div>\n",
       "      <progress value='8000' class='' max='8000' style='width:300px; height:20px; vertical-align: middle;'></progress>\n",
       "      100.00% [8000/8000 00:00&lt;00:00 Sampling 4 chains, 0 divergences]\n",
       "    </div>\n",
       "    "
      ],
      "text/plain": [
       "<IPython.core.display.HTML object>"
      ]
     },
     "metadata": {},
     "output_type": "display_data"
    },
    {
     "name": "stderr",
     "output_type": "stream",
     "text": [
      "Sampling 4 chains for 1_000 tune and 1_000 draw iterations (4_000 + 4_000 draws total) took 20 seconds.\n",
      "The number of effective samples is smaller than 25% for some parameters.\n"
     ]
    }
   ],
   "source": [
    "# Sample from the model\n",
    "with freq_model:\n",
    "    trace = pm.sample(NUM_SAMPLES, tune=1000)"
   ]
  },
  {
   "cell_type": "code",
   "execution_count": 10,
   "id": "b5df4524",
   "metadata": {},
   "outputs": [
    {
     "name": "stderr",
     "output_type": "stream",
     "text": [
      "Got error No model on context stack. trying to find log_likelihood in translation.\n"
     ]
    },
    {
     "data": {
      "image/png": "[encoded data removed]",
      "text/plain": [
       "<Figure size 460.8x345.6 with 1 Axes>"
      ]
     },
     "metadata": {
      "needs_background": "light"
     },
     "output_type": "display_data"
    }
   ],
   "source": [
    "# Plot the results\n",
    "pm.plot_posterior(trace, hdi_prob=CONFIDENCE_INTERVAL)\n",
    "plt.show()"
   ]
  },
  {
   "cell_type": "markdown",
   "id": "ed9d2c87",
   "metadata": {},
   "source": [
    "To modify the code to have a minimum and maximum mean probability (μ) for events per year, you can introduce a uniform distribution for  μ within the desired range."
   ]
  },
  {
   "cell_type": "code",
   "execution_count": 11,
   "id": "730c5a52",
   "metadata": {},
   "outputs": [],
   "source": [
    "# Define the PyMC3 model\n",
    "with pm.Model() as freq_model:\n",
    "    mu = pm.Uniform('mu', lower_bound, upper_bound)\n",
    "    events_per_year = pm.Poisson('events_per_year', mu=mu)"
   ]
  },
  {
   "cell_type": "code",
   "execution_count": 12,
   "id": "b4ab901c",
   "metadata": {},
   "outputs": [
    {
     "name": "stderr",
     "output_type": "stream",
     "text": [
      "Multiprocess sampling (4 chains in 4 jobs)\n",
      "CompoundStep\n",
      ">NUTS: [mu]\n",
      ">Metropolis: [events_per_year]\n"
     ]
    },
    {
     "data": {
      "text/html": [
       "\n",
       "<style>\n",
       "    /* Turns off some styling */\n",
       "    progress {\n",
       "        /* gets rid of default border in Firefox and Opera. */\n",
       "        border: none;\n",
       "        /* Needs to be in here for Safari polyfill so background images work as expected. */\n",
       "        background-size: auto;\n",
       "    }\n",
       "    progress:not([value]), progress:not([value])::-webkit-progress-bar {\n",
       "        background: repeating-linear-gradient(45deg, #7e7e7e, #7e7e7e 10px, #5c5c5c 10px, #5c5c5c 20px);\n",
       "    }\n",
       "    .progress-bar-interrupted, .progress-bar-interrupted::-webkit-progress-bar {\n",
       "        background: #F44336;\n",
       "    }\n",
       "</style>\n"
      ],
      "text/plain": [
       "<IPython.core.display.HTML object>"
      ]
     },
     "metadata": {},
     "output_type": "display_data"
    },
    {
     "data": {
      "text/html": [
       "\n",
       "    <div>\n",
       "      <progress value='8000' class='' max='8000' style='width:300px; height:20px; vertical-align: middle;'></progress>\n",
       "      100.00% [8000/8000 00:03&lt;00:00 Sampling 4 chains, 0 divergences]\n",
       "    </div>\n",
       "    "
      ],
      "text/plain": [
       "<IPython.core.display.HTML object>"
      ]
     },
     "metadata": {},
     "output_type": "display_data"
    },
    {
     "name": "stderr",
     "output_type": "stream",
     "text": [
      "Sampling 4 chains for 1_000 tune and 1_000 draw iterations (4_000 + 4_000 draws total) took 21 seconds.\n",
      "The number of effective samples is smaller than 25% for some parameters.\n"
     ]
    }
   ],
   "source": [
    "# Sample from the model\n",
    "with freq_model:\n",
    "    trace = pm.sample(NUM_SAMPLES, tune=1000)"
   ]
  },
  {
   "cell_type": "code",
   "execution_count": 13,
   "id": "a0c64a11",
   "metadata": {},
   "outputs": [
    {
     "name": "stderr",
     "output_type": "stream",
     "text": [
      "Got error No model on context stack. trying to find log_likelihood in translation.\n"
     ]
    },
    {
     "data": {
      "image/png": "[encoded data removed]",
      "text/plain": [
       "<Figure size 993.6x331.2 with 2 Axes>"
      ]
     },
     "metadata": {
      "needs_background": "light"
     },
     "output_type": "display_data"
    }
   ],
   "source": [
    "# Plot the results\n",
    "pm.plot_posterior(trace, hdi_prob=CONFIDENCE_INTERVAL)\n",
    "plt.show()"
   ]
  },
  {
   "cell_type": "code",
   "execution_count": null,
   "id": "e41b20e5",
   "metadata": {},
   "outputs": [],
   "source": []
  },
  {
   "cell_type": "code",
   "execution_count": 14,
   "id": "b0492199",
   "metadata": {},
   "outputs": [],
   "source": [
    "# Define the PyMC3 model\n",
    "with pm.Model() as magn_model:\n",
    "    magnitude = pm.Lognormal('magnitude', mu=MU, sigma=SIGMA)"
   ]
  },
  {
   "cell_type": "code",
   "execution_count": 15,
   "id": "abc955f2",
   "metadata": {},
   "outputs": [
    {
     "name": "stderr",
     "output_type": "stream",
     "text": [
      "Auto-assigning NUTS sampler...\n",
      "Initializing NUTS using jitter+adapt_diag...\n",
      "Multiprocess sampling (4 chains in 4 jobs)\n",
      "NUTS: [magnitude]\n"
     ]
    },
    {
     "data": {
      "text/html": [
       "\n",
       "<style>\n",
       "    /* Turns off some styling */\n",
       "    progress {\n",
       "        /* gets rid of default border in Firefox and Opera. */\n",
       "        border: none;\n",
       "        /* Needs to be in here for Safari polyfill so background images work as expected. */\n",
       "        background-size: auto;\n",
       "    }\n",
       "    progress:not([value]), progress:not([value])::-webkit-progress-bar {\n",
       "        background: repeating-linear-gradient(45deg, #7e7e7e, #7e7e7e 10px, #5c5c5c 10px, #5c5c5c 20px);\n",
       "    }\n",
       "    .progress-bar-interrupted, .progress-bar-interrupted::-webkit-progress-bar {\n",
       "        background: #F44336;\n",
       "    }\n",
       "</style>\n"
      ],
      "text/plain": [
       "<IPython.core.display.HTML object>"
      ]
     },
     "metadata": {},
     "output_type": "display_data"
    },
    {
     "data": {
      "text/html": [
       "\n",
       "    <div>\n",
       "      <progress value='8000' class='' max='8000' style='width:300px; height:20px; vertical-align: middle;'></progress>\n",
       "      100.00% [8000/8000 00:02&lt;00:00 Sampling 4 chains, 0 divergences]\n",
       "    </div>\n",
       "    "
      ],
      "text/plain": [
       "<IPython.core.display.HTML object>"
      ]
     },
     "metadata": {},
     "output_type": "display_data"
    },
    {
     "name": "stderr",
     "output_type": "stream",
     "text": [
      "Sampling 4 chains for 1_000 tune and 1_000 draw iterations (4_000 + 4_000 draws total) took 20 seconds.\n",
      "The acceptance probability does not match the target. It is 0.8813339777613045, but should be close to 0.8. Try to increase the number of tuning steps.\n"
     ]
    }
   ],
   "source": [
    "# Sample from the model\n",
    "with magn_model:\n",
    "    trace = pm.sample(NUM_SAMPLES, tune=1000)"
   ]
  },
  {
   "cell_type": "code",
   "execution_count": 16,
   "id": "071d572b",
   "metadata": {},
   "outputs": [
    {
     "name": "stderr",
     "output_type": "stream",
     "text": [
      "Got error No model on context stack. trying to find log_likelihood in translation.\n"
     ]
    },
    {
     "data": {
      "image/png": "[encoded data removed]",
      "text/plain": [
       "<Figure size 432x288 with 1 Axes>"
      ]
     },
     "metadata": {
      "needs_background": "light"
     },
     "output_type": "display_data"
    }
   ],
   "source": [
    "# Plot the results\n",
    "pm.plot_posterior(trace, hdi_prob=CONFIDENCE_INTERVAL)\n",
    "plt.show()"
   ]
  },
  {
   "cell_type": "code",
   "execution_count": 17,
   "id": "c8a7f79f",
   "metadata": {},
   "outputs": [],
   "source": [
    "df = pm.trace_to_dataframe(trace)"
   ]
  },
  {
   "cell_type": "code",
   "execution_count": 18,
   "id": "3cb7a7f3",
   "metadata": {},
   "outputs": [
    {
     "data": {
      "text/html": [
       "<div>\n",
       "<style scoped>\n",
       "    .dataframe tbody tr th:only-of-type {\n",
       "        vertical-align: middle;\n",
       "    }\n",
       "\n",
       "    .dataframe tbody tr th {\n",
       "        vertical-align: top;\n",
       "    }\n",
       "\n",
       "    .dataframe thead th {\n",
       "        text-align: right;\n",
       "    }\n",
       "</style>\n",
       "<table border=\"1\" class=\"dataframe\">\n",
       "  <thead>\n",
       "    <tr style=\"text-align: right;\">\n",
       "      <th></th>\n",
       "      <th>magnitude</th>\n",
       "    </tr>\n",
       "  </thead>\n",
       "  <tbody>\n",
       "    <tr>\n",
       "      <th>0</th>\n",
       "      <td>0.483830</td>\n",
       "    </tr>\n",
       "    <tr>\n",
       "      <th>1</th>\n",
       "      <td>184.635522</td>\n",
       "    </tr>\n",
       "    <tr>\n",
       "      <th>2</th>\n",
       "      <td>40.084459</td>\n",
       "    </tr>\n",
       "    <tr>\n",
       "      <th>3</th>\n",
       "      <td>4.962368</td>\n",
       "    </tr>\n",
       "    <tr>\n",
       "      <th>4</th>\n",
       "      <td>10.010393</td>\n",
       "    </tr>\n",
       "  </tbody>\n",
       "</table>\n",
       "</div>"
      ],
      "text/plain": [
       "    magnitude\n",
       "0    0.483830\n",
       "1  184.635522\n",
       "2   40.084459\n",
       "3    4.962368\n",
       "4   10.010393"
      ]
     },
     "execution_count": 18,
     "metadata": {},
     "output_type": "execute_result"
    }
   ],
   "source": [
    "df.head()"
   ]
  },
  {
   "cell_type": "code",
   "execution_count": 19,
   "id": "a2eb5b03",
   "metadata": {},
   "outputs": [
    {
     "data": {
      "text/plain": [
       "Text(0.5, 0, 'Potential Loss Magnitudes [$ MM]')"
      ]
     },
     "execution_count": 19,
     "metadata": {},
     "output_type": "execute_result"
    },
    {
     "data": {
      "image/png": "[encoded data removed]",
      "text/plain": [
       "<Figure size 1440x720 with 1 Axes>"
      ]
     },
     "metadata": {
      "needs_background": "light"
     },
     "output_type": "display_data"
    }
   ],
   "source": [
    "plt.figure(figsize=(20, 10))\n",
    "sns.distplot(df.magnitude, bins=30, color='darkred')\n",
    "plt.xlabel('Potential Loss Magnitudes [$ MM]')"
   ]
  },
  {
   "cell_type": "code",
   "execution_count": null,
   "id": "e203c912",
   "metadata": {},
   "outputs": [],
   "source": []
  },
  {
   "cell_type": "code",
   "execution_count": 20,
   "id": "3797b290",
   "metadata": {},
   "outputs": [],
   "source": [
    "# Define the PyMC3 model\n",
    "with pm.Model() as risk_model:\n",
    "\n",
    "    # Model magnitude as a log-normal distribution\n",
    "    magnitude = pm.Lognormal('magnitude', mu=MU, sigma=SIGMA)\n",
    "\n",
    "    # Model frequency as a Poisson distribution\n",
    "    frequency = pm.Poisson('frequency', mu=MIN)\n",
    "    \n",
    "    # Calculate risk as the multiplication of frequency and loss\n",
    "    risk = pm.Deterministic('risk', pm.math.sum(frequency * magnitude))\n"
   ]
  },
  {
   "cell_type": "code",
   "execution_count": 21,
   "id": "443f3d16",
   "metadata": {},
   "outputs": [
    {
     "name": "stderr",
     "output_type": "stream",
     "text": [
      "Multiprocess sampling (4 chains in 4 jobs)\n",
      "CompoundStep\n",
      ">NUTS: [magnitude]\n",
      ">Metropolis: [frequency]\n"
     ]
    },
    {
     "data": {
      "text/html": [
       "\n",
       "<style>\n",
       "    /* Turns off some styling */\n",
       "    progress {\n",
       "        /* gets rid of default border in Firefox and Opera. */\n",
       "        border: none;\n",
       "        /* Needs to be in here for Safari polyfill so background images work as expected. */\n",
       "        background-size: auto;\n",
       "    }\n",
       "    progress:not([value]), progress:not([value])::-webkit-progress-bar {\n",
       "        background: repeating-linear-gradient(45deg, #7e7e7e, #7e7e7e 10px, #5c5c5c 10px, #5c5c5c 20px);\n",
       "    }\n",
       "    .progress-bar-interrupted, .progress-bar-interrupted::-webkit-progress-bar {\n",
       "        background: #F44336;\n",
       "    }\n",
       "</style>\n"
      ],
      "text/plain": [
       "<IPython.core.display.HTML object>"
      ]
     },
     "metadata": {},
     "output_type": "display_data"
    },
    {
     "data": {
      "text/html": [
       "\n",
       "    <div>\n",
       "      <progress value='8000' class='' max='8000' style='width:300px; height:20px; vertical-align: middle;'></progress>\n",
       "      100.00% [8000/8000 00:03&lt;00:00 Sampling 4 chains, 0 divergences]\n",
       "    </div>\n",
       "    "
      ],
      "text/plain": [
       "<IPython.core.display.HTML object>"
      ]
     },
     "metadata": {},
     "output_type": "display_data"
    },
    {
     "name": "stderr",
     "output_type": "stream",
     "text": [
      "Sampling 4 chains for 1_000 tune and 1_000 draw iterations (4_000 + 4_000 draws total) took 20 seconds.\n",
      "The number of effective samples is smaller than 25% for some parameters.\n"
     ]
    }
   ],
   "source": [
    "# Sample from the model\n",
    "with risk_model:\n",
    "    trace = pm.sample(NUM_SAMPLES, tune=1000)"
   ]
  },
  {
   "cell_type": "code",
   "execution_count": 22,
   "id": "9f35fb0a",
   "metadata": {},
   "outputs": [
    {
     "name": "stderr",
     "output_type": "stream",
     "text": [
      "Got error No model on context stack. trying to find log_likelihood in translation.\n"
     ]
    },
    {
     "data": {
      "image/png": "[encoded data removed]",
      "text/plain": [
       "<Figure size 432x288 with 1 Axes>"
      ]
     },
     "metadata": {
      "needs_background": "light"
     },
     "output_type": "display_data"
    }
   ],
   "source": [
    "# Plot the results with a 95% credible interval\n",
    "pm.plot_posterior(trace, var_names=['risk'], hdi_prob=CONFIDENCE_INTERVAL)\n",
    "plt.show()"
   ]
  },
  {
   "cell_type": "code",
   "execution_count": null,
   "id": "ddf9d7f2",
   "metadata": {},
   "outputs": [],
   "source": []
  },
  {
   "cell_type": "code",
   "execution_count": null,
   "id": "df6cb4b1",
   "metadata": {},
   "outputs": [],
   "source": []
  },
  {
   "cell_type": "code",
   "execution_count": 23,
   "id": "3081d82c",
   "metadata": {},
   "outputs": [],
   "source": [
    "POSTERIOR_MIN = .5"
   ]
  },
  {
   "cell_type": "code",
   "execution_count": 37,
   "id": "deeea543",
   "metadata": {},
   "outputs": [],
   "source": [
    "def update_and_compare_prior(new_frequency_observation):\n",
    "    # Define the PyMC3 model for the prior\n",
    "    with pm.Model() as prior_model:\n",
    "        # Model magnitude as a log-normal distribution\n",
    "        magnitude = pm.Lognormal('magnitude', mu=MU, sigma=SIGMA)\n",
    "\n",
    "        # Model frequency as a Poisson distribution with an initial prior\n",
    "        frequency_prior = pm.Poisson('frequency_prior', mu=MIN)\n",
    "\n",
    "        # Calculate risk as the multiplication of frequency and magnitude\n",
    "        risk_prior = pm.Deterministic('risk', pm.math.sum(frequency_prior * magnitude))\n",
    "\n",
    "        # Sample from the prior\n",
    "        trace_prior = pm.sample(NUM_SAMPLES, tune=1000)\n",
    "\n",
    "    # Define the PyMC3 model for the posterior\n",
    "    with prior_model:\n",
    "        # Update the prior for frequency with a new observation\n",
    "        frequency_prior.observed = new_frequency_observation\n",
    "\n",
    "        # Resample from the model\n",
    "        trace_posterior = pm.sample(NUM_SAMPLES, tune=1000)\n",
    "\n",
    "    # Plot the prior and posterior distributions\n",
    "    fig, axes = plt.subplots(1, 2, figsize=(12, 5), sharex=True, sharey=True)\n",
    "\n",
    "    pm.plot_posterior(trace_posterior, var_names=['risk'], ax=axes[0], hdi_prob=0.95)\n",
    "    axes[0].set_title('Posterior Distribution')\n",
    "\n",
    "    # Optionally, you can also plot the prior distribution\n",
    "    pm.plot_posterior(trace_prior, var_names=['risk'], ax=axes[1], hdi_prob=0.95)\n",
    "    axes[1].set_title('Prior Distribution')\n",
    "\n",
    "    plt.show()"
   ]
  },
  {
   "cell_type": "code",
   "execution_count": 38,
   "id": "cee7c9e5",
   "metadata": {},
   "outputs": [
    {
     "name": "stderr",
     "output_type": "stream",
     "text": [
      "Multiprocess sampling (4 chains in 4 jobs)\n",
      "CompoundStep\n",
      ">NUTS: [magnitude]\n",
      ">Metropolis: [frequency_prior]\n"
     ]
    },
    {
     "data": {
      "text/html": [
       "\n",
       "<style>\n",
       "    /* Turns off some styling */\n",
       "    progress {\n",
       "        /* gets rid of default border in Firefox and Opera. */\n",
       "        border: none;\n",
       "        /* Needs to be in here for Safari polyfill so background images work as expected. */\n",
       "        background-size: auto;\n",
       "    }\n",
       "    progress:not([value]), progress:not([value])::-webkit-progress-bar {\n",
       "        background: repeating-linear-gradient(45deg, #7e7e7e, #7e7e7e 10px, #5c5c5c 10px, #5c5c5c 20px);\n",
       "    }\n",
       "    .progress-bar-interrupted, .progress-bar-interrupted::-webkit-progress-bar {\n",
       "        background: #F44336;\n",
       "    }\n",
       "</style>\n"
      ],
      "text/plain": [
       "<IPython.core.display.HTML object>"
      ]
     },
     "metadata": {},
     "output_type": "display_data"
    },
    {
     "data": {
      "text/html": [
       "\n",
       "    <div>\n",
       "      <progress value='8000' class='' max='8000' style='width:300px; height:20px; vertical-align: middle;'></progress>\n",
       "      100.00% [8000/8000 00:02&lt;00:00 Sampling 4 chains, 0 divergences]\n",
       "    </div>\n",
       "    "
      ],
      "text/plain": [
       "<IPython.core.display.HTML object>"
      ]
     },
     "metadata": {},
     "output_type": "display_data"
    },
    {
     "name": "stderr",
     "output_type": "stream",
     "text": [
      "Sampling 4 chains for 1_000 tune and 1_000 draw iterations (4_000 + 4_000 draws total) took 20 seconds.\n",
      "The number of effective samples is smaller than 25% for some parameters.\n",
      "Multiprocess sampling (4 chains in 4 jobs)\n",
      "CompoundStep\n",
      ">NUTS: [magnitude]\n",
      ">Metropolis: [frequency_prior]\n"
     ]
    },
    {
     "data": {
      "text/html": [
       "\n",
       "<style>\n",
       "    /* Turns off some styling */\n",
       "    progress {\n",
       "        /* gets rid of default border in Firefox and Opera. */\n",
       "        border: none;\n",
       "        /* Needs to be in here for Safari polyfill so background images work as expected. */\n",
       "        background-size: auto;\n",
       "    }\n",
       "    progress:not([value]), progress:not([value])::-webkit-progress-bar {\n",
       "        background: repeating-linear-gradient(45deg, #7e7e7e, #7e7e7e 10px, #5c5c5c 10px, #5c5c5c 20px);\n",
       "    }\n",
       "    .progress-bar-interrupted, .progress-bar-interrupted::-webkit-progress-bar {\n",
       "        background: #F44336;\n",
       "    }\n",
       "</style>\n"
      ],
      "text/plain": [
       "<IPython.core.display.HTML object>"
      ]
     },
     "metadata": {},
     "output_type": "display_data"
    },
    {
     "data": {
      "text/html": [
       "\n",
       "    <div>\n",
       "      <progress value='8000' class='' max='8000' style='width:300px; height:20px; vertical-align: middle;'></progress>\n",
       "      100.00% [8000/8000 00:02&lt;00:00 Sampling 4 chains, 0 divergences]\n",
       "    </div>\n",
       "    "
      ],
      "text/plain": [
       "<IPython.core.display.HTML object>"
      ]
     },
     "metadata": {},
     "output_type": "display_data"
    },
    {
     "name": "stderr",
     "output_type": "stream",
     "text": [
      "Sampling 4 chains for 1_000 tune and 1_000 draw iterations (4_000 + 4_000 draws total) took 20 seconds.\n",
      "The number of effective samples is smaller than 25% for some parameters.\n",
      "Got error No model on context stack. trying to find log_likelihood in translation.\n",
      "Got error No model on context stack. trying to find log_likelihood in translation.\n"
     ]
    },
    {
     "data": {
      "image/png": "[encoded data removed]",
      "text/plain": [
       "<Figure size 864x360 with 2 Axes>"
      ]
     },
     "metadata": {
      "needs_background": "light"
     },
     "output_type": "display_data"
    }
   ],
   "source": [
    "# Run the function to update and compare the prior and posterior\n",
    "update_and_compare_prior(new_frequency_observation=POSTERIOR_MIN)"
   ]
  },
  {
   "cell_type": "code",
   "execution_count": null,
   "id": "48315f32",
   "metadata": {},
   "outputs": [],
   "source": []
  },
  {
   "cell_type": "code",
   "execution_count": null,
   "id": "4a56c0e4",
   "metadata": {},
   "outputs": [],
   "source": []
  }
 ],
 "metadata": {
  "kernelspec": {
   "display_name": "Python 3 (ipykernel)",
   "language": "python",
   "name": "python3"
  },
  "language_info": {
   "codemirror_mode": {
    "name": "ipython",
    "version": 3
   },
   "file_extension": ".py",
   "mimetype": "text/x-python",
   "name": "python",
   "nbconvert_exporter": "python",
   "pygments_lexer": "ipython3",
   "version": "3.9.12"
  }
 },
 "nbformat": 4,
 "nbformat_minor": 5
}
